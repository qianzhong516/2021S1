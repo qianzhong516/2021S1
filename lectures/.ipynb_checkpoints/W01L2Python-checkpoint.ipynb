{
 "cells": [
  {
   "cell_type": "markdown",
   "metadata": {
    "slideshow": {
     "slide_type": "slide"
    }
   },
   "source": [
    "# Basic Python\n",
    "### Beginning Python"
   ]
  },
  {
   "cell_type": "code",
   "execution_count": 1,
   "metadata": {
    "collapsed": true
   },
   "outputs": [],
   "source": [
    "def hello (who):                          # 1\n",
    "    \"\"\"Greet somebody\"\"\"                  # 2\n",
    "    print(\"Hello \" + who + \"!\")           # 3"
   ]
  },
  {
   "cell_type": "markdown",
   "metadata": {
    "slideshow": {
     "slide_type": "notes"
    }
   },
   "source": [
    "1 Defines a new function/procedure called `hello` which takes a single argument.  Note that python variables are not typed, who could be a string, integer, array ... The line ends with a colon (:) which means we're beginning an indented code block.\n",
    "\n",
    "2 Firstly note that there are no brackets delimiting the body of the procedure, Python instead uses indentation to delimit code blocks. So, getting the indentation right is crucial!\n",
    "  \n",
    "This line (2) is a documentation string for the procedure which gets associated with it in the python environment. The three double quotes delimit a multi-line string (could use ' or \" in this context).\n",
    "\n",
    "3 This is the body of the procedure, ``print`` is a built in command in python. Note that the Python 2.x versions do not use round brackets, this is a major difference with Python 3.x. We also see here the `+` operator used on strings (I'm assuming `who`is a string) to perform concatenation --- thus we have operator overloading based on object type just like other OO languages.\n"
   ]
  },
  {
   "cell_type": "code",
   "execution_count": 2,
   "metadata": {
    "collapsed": true
   },
   "outputs": [
    {
     "name": "stdout",
     "output_type": "stream",
     "text": [
      "Help on function hello in module __main__:\n",
      "\n",
      "hello(who)\n",
      "    Greet somebody\n",
      "\n"
     ]
    }
   ],
   "source": [
    "help(hello)"
   ]
  },
  {
   "cell_type": "code",
   "execution_count": 3,
   "metadata": {
    "collapsed": true
   },
   "outputs": [
    {
     "name": "stdout",
     "output_type": "stream",
     "text": [
      "Hello Steve!\n"
     ]
    }
   ],
   "source": [
    "hello(\"Steve\")"
   ]
  },
  {
   "cell_type": "markdown",
   "metadata": {
    "slideshow": {
     "slide_type": "notes"
    }
   },
   "source": [
    "Here I'm calling the new procedure with a literal string argument delimited by `\"`."
   ]
  },
  {
   "cell_type": "code",
   "execution_count": 4,
   "metadata": {
    "collapsed": true
   },
   "outputs": [
    {
     "name": "stdout",
     "output_type": "stream",
     "text": [
      "Hello world!\n"
     ]
    }
   ],
   "source": [
    "hello('world')"
   ]
  },
  {
   "cell_type": "markdown",
   "metadata": {
    "slideshow": {
     "slide_type": "notes"
    }
   },
   "source": [
    "And here delimited by `'` --- both of these delimiters are equivalent, use one if you want to include the other in the string, eg `\"Steve's\"`."
   ]
  },
  {
   "cell_type": "code",
   "execution_count": 5,
   "metadata": {
    "collapsed": true
   },
   "outputs": [
    {
     "name": "stdout",
     "output_type": "stream",
     "text": [
      "Hello Steve!\n",
      "Hello Mark!\n",
      "Hello Diego!\n"
     ]
    }
   ],
   "source": [
    "people =  ['Steve', \"Mark\", 'Diego']      # 6\n",
    "for person in people:                     # 7\n",
    "    hello(person)                         # 8"
   ]
  },
  {
   "cell_type": "markdown",
   "metadata": {
    "slideshow": {
     "slide_type": "notes"
    }
   },
   "source": [
    "6 This defines a variable people to have a value which is a list of strings, lists are 1-D arrays and the elements can be any python object (including lists).\n",
    "\n",
    "7 A `for` loop over the elements of the list. Again the line ends with a colon indicating a code block to follow.\n",
    "\n",
    "8 Call the procedure with the variable which will be bound to successive elements of the list.\n"
   ]
  },
  {
   "cell_type": "markdown",
   "metadata": {
    "slideshow": {
     "slide_type": "slide"
    }
   },
   "source": [
    "### Core Data Types\n",
    "1. Strings\n",
    "2. Numbers (integers, float, complex)\n",
    "3. Lists\n",
    "4. Tuples (inmutable sequences)\n",
    "5. Dictionaries (associative arrays)\n"
   ]
  },
  {
   "cell_type": "markdown",
   "metadata": {
    "slideshow": {
     "slide_type": "slide"
    }
   },
   "source": [
    "### Lists"
   ]
  },
  {
   "cell_type": "code",
   "execution_count": 6,
   "metadata": {
    "collapsed": true
   },
   "outputs": [],
   "source": [
    "a = ['one', 'two', 3, 'four']"
   ]
  },
  {
   "cell_type": "code",
   "execution_count": 7,
   "metadata": {
    "collapsed": true
   },
   "outputs": [
    {
     "data": {
      "text/plain": [
       "'one'"
      ]
     },
     "execution_count": 7,
     "metadata": {},
     "output_type": "execute_result"
    }
   ],
   "source": [
    "a[0]"
   ]
  },
  {
   "cell_type": "code",
   "execution_count": 8,
   "metadata": {
    "collapsed": true
   },
   "outputs": [
    {
     "data": {
      "text/plain": [
       "'four'"
      ]
     },
     "execution_count": 8,
     "metadata": {},
     "output_type": "execute_result"
    }
   ],
   "source": [
    "a[-1]"
   ]
  },
  {
   "cell_type": "code",
   "execution_count": 9,
   "metadata": {
    "collapsed": true
   },
   "outputs": [
    {
     "data": {
      "text/plain": [
       "['one', 'two', 3]"
      ]
     },
     "execution_count": 9,
     "metadata": {},
     "output_type": "execute_result"
    }
   ],
   "source": [
    "a[0:3]"
   ]
  },
  {
   "cell_type": "code",
   "execution_count": 10,
   "metadata": {
    "collapsed": true
   },
   "outputs": [
    {
     "data": {
      "text/plain": [
       "4"
      ]
     },
     "execution_count": 10,
     "metadata": {},
     "output_type": "execute_result"
    }
   ],
   "source": [
    "len(a)"
   ]
  },
  {
   "cell_type": "code",
   "execution_count": 11,
   "metadata": {
    "collapsed": true
   },
   "outputs": [
    {
     "data": {
      "text/plain": [
       "3"
      ]
     },
     "execution_count": 11,
     "metadata": {},
     "output_type": "execute_result"
    }
   ],
   "source": [
    "len(a[0])"
   ]
  },
  {
   "cell_type": "code",
   "execution_count": 12,
   "metadata": {
    "collapsed": true
   },
   "outputs": [
    {
     "data": {
      "text/plain": [
       "['one', 2, 3, 'four']"
      ]
     },
     "execution_count": 12,
     "metadata": {},
     "output_type": "execute_result"
    }
   ],
   "source": [
    "a[1] = 2\n",
    "a"
   ]
  },
  {
   "cell_type": "code",
   "execution_count": 13,
   "metadata": {
    "collapsed": true,
    "slideshow": {
     "slide_type": "subslide"
    }
   },
   "outputs": [
    {
     "data": {
      "text/plain": [
       "['one', 2, 3, 'four', 'five']"
      ]
     },
     "execution_count": 13,
     "metadata": {},
     "output_type": "execute_result"
    }
   ],
   "source": [
    "a.append('five')\n",
    "a"
   ]
  },
  {
   "cell_type": "code",
   "execution_count": 14,
   "metadata": {
    "collapsed": true
   },
   "outputs": [
    {
     "data": {
      "text/plain": [
       "['one', 2, 3, 'four']"
      ]
     },
     "execution_count": 14,
     "metadata": {},
     "output_type": "execute_result"
    }
   ],
   "source": [
    "top = a.pop()\n",
    "a"
   ]
  },
  {
   "cell_type": "code",
   "execution_count": 15,
   "metadata": {
    "collapsed": true
   },
   "outputs": [
    {
     "data": {
      "text/plain": [
       "'five'"
      ]
     },
     "execution_count": 15,
     "metadata": {},
     "output_type": "execute_result"
    }
   ],
   "source": [
    "top"
   ]
  },
  {
   "cell_type": "markdown",
   "metadata": {
    "slideshow": {
     "slide_type": "slide"
    }
   },
   "source": [
    "### List Comprehensions\n",
    "List comprehensions are a very powerful feature of Python. They reduce the need to write simple loops."
   ]
  },
  {
   "cell_type": "code",
   "execution_count": 16,
   "metadata": {
    "collapsed": true
   },
   "outputs": [
    {
     "data": {
      "text/plain": [
       "3"
      ]
     },
     "execution_count": 16,
     "metadata": {},
     "output_type": "execute_result"
    }
   ],
   "source": [
    "a = ['one', 'two', 'three', 'four']\n",
    "len(a[0])"
   ]
  },
  {
   "cell_type": "code",
   "execution_count": 17,
   "metadata": {
    "collapsed": true
   },
   "outputs": [
    {
     "data": {
      "text/plain": [
       "['three', 'four']"
      ]
     },
     "execution_count": 17,
     "metadata": {},
     "output_type": "execute_result"
    }
   ],
   "source": [
    "b = [w for w in a if len(w) > 3]\n",
    "b"
   ]
  },
  {
   "cell_type": "code",
   "execution_count": 18,
   "metadata": {
    "collapsed": true
   },
   "outputs": [
    {
     "data": {
      "text/plain": [
       "['one', 'two', 'three']"
      ]
     },
     "execution_count": 18,
     "metadata": {},
     "output_type": "execute_result"
    }
   ],
   "source": [
    "c = [[1,'one'],[2,'two'],[3,'three']]\n",
    "d = [w for [n,w] in c]\n",
    "d"
   ]
  },
  {
   "cell_type": "markdown",
   "metadata": {
    "slideshow": {
     "slide_type": "slide"
    }
   },
   "source": [
    "### Tuples\n",
    "Tuples are a sequence data type like lists but are immutable:\n",
    "* Once created, elements cannot be added or modified.\n",
    "\n",
    "Create tuples as literals using parentheses:\n"
   ]
  },
  {
   "cell_type": "code",
   "execution_count": 19,
   "metadata": {
    "collapsed": true
   },
   "outputs": [],
   "source": [
    "a  = ('one', 'two', 'three')"
   ]
  },
  {
   "cell_type": "markdown",
   "metadata": {},
   "source": [
    "Or from another sequence type:"
   ]
  },
  {
   "cell_type": "code",
   "execution_count": 20,
   "metadata": {
    "collapsed": true
   },
   "outputs": [],
   "source": [
    "a = ['one', 'two', 'three']\n",
    "b = tuple(a)"
   ]
  },
  {
   "cell_type": "markdown",
   "metadata": {
    "slideshow": {
     "slide_type": "-"
    }
   },
   "source": [
    "Use tuples as fixed length sequences: memory advantages.\n",
    "\n"
   ]
  },
  {
   "cell_type": "markdown",
   "metadata": {
    "slideshow": {
     "slide_type": "slide"
    }
   },
   "source": [
    "### Dictionaries\n",
    "* Associative array datatype (hash)\n",
    "* Store values under some hash key\n",
    "* Key can be any immutable type: string, number, tuple"
   ]
  },
  {
   "cell_type": "code",
   "execution_count": 21,
   "metadata": {
    "collapsed": true
   },
   "outputs": [
    {
     "data": {
      "text/plain": [
       "dict_keys(['madonna', 'john'])"
      ]
     },
     "execution_count": 21,
     "metadata": {},
     "output_type": "execute_result"
    }
   ],
   "source": [
    "names = dict()\n",
    "names['madonna'] = 'Madonna'\n",
    "names['john'] = ['Dr.', 'John', 'Marshall']\n",
    "names.keys()"
   ]
  },
  {
   "cell_type": "code",
   "execution_count": 22,
   "metadata": {
    "collapsed": true
   },
   "outputs": [
    {
     "data": {
      "text/plain": [
       "['madonna', 'john']"
      ]
     },
     "execution_count": 22,
     "metadata": {},
     "output_type": "execute_result"
    }
   ],
   "source": [
    "list(names.keys())"
   ]
  },
  {
   "cell_type": "code",
   "execution_count": 23,
   "metadata": {
    "collapsed": true
   },
   "outputs": [
    {
     "data": {
      "text/plain": [
       "True"
      ]
     },
     "execution_count": 23,
     "metadata": {},
     "output_type": "execute_result"
    }
   ],
   "source": [
    "ages = {'steve':41, 'john':22}\n",
    "'john' in ages"
   ]
  },
  {
   "cell_type": "code",
   "execution_count": 24,
   "metadata": {
    "collapsed": true
   },
   "outputs": [
    {
     "data": {
      "text/plain": [
       "False"
      ]
     },
     "execution_count": 24,
     "metadata": {},
     "output_type": "execute_result"
    }
   ],
   "source": [
    "41 in ages"
   ]
  },
  {
   "cell_type": "code",
   "execution_count": 25,
   "metadata": {
    "collapsed": true
   },
   "outputs": [
    {
     "data": {
      "text/plain": [
       "True"
      ]
     },
     "execution_count": 25,
     "metadata": {},
     "output_type": "execute_result"
    }
   ],
   "source": [
    "'john' in ages.keys()"
   ]
  },
  {
   "cell_type": "code",
   "execution_count": 26,
   "metadata": {
    "collapsed": true,
    "slideshow": {
     "slide_type": "subslide"
    }
   },
   "outputs": [
    {
     "name": "stdout",
     "output_type": "stream",
     "text": [
      "steve 41\n",
      "john 22\n"
     ]
    }
   ],
   "source": [
    "for k in ages:\n",
    "    print(k, ages[k])"
   ]
  },
  {
   "cell_type": "markdown",
   "metadata": {
    "slideshow": {
     "slide_type": "slide"
    }
   },
   "source": [
    "### Organising Source Code: Modules\n",
    "* In Python, a module is  a single source file wich defines one or more procedures or classes.\n",
    "* Load a module with the `import` directive.\n",
    "* After importing the module, all functions are grouped in the module namespace.\n",
    "* Python provides many useful modules.\n"
   ]
  },
  {
   "cell_type": "code",
   "execution_count": 1,
   "metadata": {
    "collapsed": true
   },
   "outputs": [
    {
     "data": {
      "text/plain": [
       "21.972245773362197"
      ]
     },
     "execution_count": 1,
     "metadata": {},
     "output_type": "execute_result"
    }
   ],
   "source": [
    "import math\n",
    "20 * math.log(3)"
   ]
  },
  {
   "cell_type": "markdown",
   "metadata": {
    "slideshow": {
     "slide_type": "slide"
    }
   },
   "source": [
    "### Defining Modules\n",
    "* A module is a source file containing Python code\n",
    "    * Usually class/function definitions.\n",
    "* First non comment item can be a docstring for the module.\n",
    "\n",
    "```python\n",
    "# my python module\n",
    "\"\"\"This is a python module to\n",
    "do something interesting\"\"\"\n",
    "\n",
    "def foo(x):\n",
    "   'foo the x'\n",
    "   print('the foo is ' + str(x))\n",
    "```"
   ]
  },
  {
   "cell_type": "markdown",
   "metadata": {
    "slideshow": {
     "slide_type": "slide"
    }
   },
   "source": [
    "# NLTK\n",
    "NLTK is a Python module"
   ]
  },
  {
   "cell_type": "code",
   "execution_count": 28,
   "metadata": {
    "collapsed": true
   },
   "outputs": [],
   "source": [
    "import nltk"
   ]
  },
  {
   "cell_type": "markdown",
   "metadata": {},
   "source": [
    "Let's do some simple statistics on the Gutenberg corpus"
   ]
  },
  {
   "cell_type": "code",
   "execution_count": 29,
   "metadata": {
    "scrolled": true
   },
   "outputs": [
    {
     "name": "stderr",
     "output_type": "stream",
     "text": [
      "[nltk_data] Downloading package gutenberg to\n",
      "[nltk_data]     C:\\Users\\zhong\\AppData\\Roaming\\nltk_data...\n",
      "[nltk_data]   Package gutenberg is already up-to-date!\n"
     ]
    },
    {
     "data": {
      "text/plain": [
       "['austen-emma.txt',\n",
       " 'austen-persuasion.txt',\n",
       " 'austen-sense.txt',\n",
       " 'bible-kjv.txt',\n",
       " 'blake-poems.txt',\n",
       " 'bryant-stories.txt',\n",
       " 'burgess-busterbrown.txt',\n",
       " 'carroll-alice.txt',\n",
       " 'chesterton-ball.txt',\n",
       " 'chesterton-brown.txt',\n",
       " 'chesterton-thursday.txt',\n",
       " 'edgeworth-parents.txt',\n",
       " 'melville-moby_dick.txt',\n",
       " 'milton-paradise.txt',\n",
       " 'shakespeare-caesar.txt',\n",
       " 'shakespeare-hamlet.txt',\n",
       " 'shakespeare-macbeth.txt',\n",
       " 'whitman-leaves.txt']"
      ]
     },
     "execution_count": 29,
     "metadata": {},
     "output_type": "execute_result"
    }
   ],
   "source": [
    "nltk.download('gutenberg')\n",
    "nltk.corpus.gutenberg.fileids()"
   ]
  },
  {
   "cell_type": "code",
   "execution_count": 31,
   "metadata": {
    "collapsed": true,
    "slideshow": {
     "slide_type": "subslide"
    }
   },
   "outputs": [
    {
     "data": {
      "text/plain": [
       "192427"
      ]
     },
     "execution_count": 31,
     "metadata": {},
     "output_type": "execute_result"
    }
   ],
   "source": [
    "emma = nltk.corpus.gutenberg.words('austen-emma.txt')\n",
    "len(emma)"
   ]
  },
  {
   "cell_type": "code",
   "execution_count": 32,
   "metadata": {
    "collapsed": true
   },
   "outputs": [
    {
     "name": "stderr",
     "output_type": "stream",
     "text": [
      "[nltk_data] Downloading package punkt to\n",
      "[nltk_data]     C:\\Users\\zhong\\AppData\\Roaming\\nltk_data...\n",
      "[nltk_data]   Package punkt is already up-to-date!\n"
     ]
    },
    {
     "name": "stdout",
     "output_type": "stream",
     "text": [
      "5 25 26 austen-emma.txt\n",
      "5 26 17 austen-persuasion.txt\n",
      "5 28 22 austen-sense.txt\n",
      "4 34 79 bible-kjv.txt\n",
      "5 19 5 blake-poems.txt\n",
      "4 19 14 bryant-stories.txt\n",
      "4 18 12 burgess-busterbrown.txt\n",
      "4 20 13 carroll-alice.txt\n",
      "5 20 12 chesterton-ball.txt\n",
      "5 23 11 chesterton-brown.txt\n",
      "5 18 11 chesterton-thursday.txt\n",
      "4 21 25 edgeworth-parents.txt\n",
      "5 26 15 melville-moby_dick.txt\n",
      "5 52 11 milton-paradise.txt\n",
      "4 12 9 shakespeare-caesar.txt\n",
      "4 12 8 shakespeare-hamlet.txt\n",
      "4 12 7 shakespeare-macbeth.txt\n",
      "5 36 12 whitman-leaves.txt\n"
     ]
    }
   ],
   "source": [
    "nltk.download('punkt')\n",
    "from nltk.corpus import gutenberg\n",
    "for fileid in gutenberg.fileids():\n",
    "    num_chars = len(gutenberg.raw(fileid))\n",
    "    num_words = len(gutenberg.words(fileid))\n",
    "    num_sents = len(gutenberg.sents(fileid))\n",
    "    num_vocab = len(set(w.lower() for w in gutenberg.words(fileid)))\n",
    "    print(round(num_chars/num_words), round(num_words/num_sents), round(num_words/num_vocab), fileid)"
   ]
  },
  {
   "cell_type": "markdown",
   "metadata": {
    "slideshow": {
     "slide_type": "slide"
    }
   },
   "source": [
    "### Counting Words"
   ]
  },
  {
   "cell_type": "code",
   "execution_count": 33,
   "metadata": {
    "collapsed": true
   },
   "outputs": [
    {
     "data": {
      "text/plain": [
       "[(',', 11454),\n",
       " ('.', 6928),\n",
       " ('to', 5183),\n",
       " ('the', 4844),\n",
       " ('and', 4672),\n",
       " ('of', 4279),\n",
       " ('I', 3178),\n",
       " ('a', 3004),\n",
       " ('was', 2385),\n",
       " ('her', 2381)]"
      ]
     },
     "execution_count": 33,
     "metadata": {},
     "output_type": "execute_result"
    }
   ],
   "source": [
    "import collections\n",
    "emma_counter = collections.Counter(emma)\n",
    "emma_counter.most_common(10)"
   ]
  },
  {
   "cell_type": "code",
   "execution_count": 34,
   "metadata": {
    "collapsed": true
   },
   "outputs": [
    {
     "data": {
      "text/plain": [
       "865"
      ]
     },
     "execution_count": 34,
     "metadata": {},
     "output_type": "execute_result"
    }
   ],
   "source": [
    "emma_counter['Emma']"
   ]
  },
  {
   "cell_type": "markdown",
   "metadata": {
    "slideshow": {
     "slide_type": "slide"
    }
   },
   "source": [
    "### Exercises\n",
    "1. Identify the 10 most common words in each file of the Gutenberg corpus. Can you see any similarities among them?\n",
    "2. Find the most frequent word with length of at least 7 characters.\n",
    "3. Find the words that are longer than 7 characters and occur more than 7 times."
   ]
  },
  {
   "cell_type": "markdown",
   "metadata": {},
   "source": [
    "### Exercise 1 Answer\n",
    "Identify the 10 most common words in each file of the Gutenberg corpus. Can you see any similarities among them?"
   ]
  },
  {
   "cell_type": "code",
   "execution_count": 40,
   "metadata": {
    "collapsed": true,
    "slideshow": {
     "slide_type": "-"
    }
   },
   "outputs": [
    {
     "name": "stdout",
     "output_type": "stream",
     "text": [
      "austen-emma.txt [(',', 11454), ('.', 6928), ('to', 5183), ('the', 4844), ('and', 4672), ('of', 4279), ('I', 3178), ('a', 3004), ('was', 2385), ('her', 2381)] \n",
      "\n",
      "\n",
      "austen-persuasion.txt [(',', 6750), ('the', 3120), ('to', 2775), ('.', 2741), ('and', 2739), ('of', 2564), ('a', 1529), ('in', 1346), ('was', 1330), (';', 1290)] \n",
      "\n",
      "\n",
      "austen-sense.txt [(',', 9397), ('to', 4063), ('.', 3975), ('the', 3861), ('of', 3565), ('and', 3350), ('her', 2436), ('a', 2043), ('I', 2004), ('in', 1904)] \n",
      "\n",
      "\n",
      "bible-kjv.txt [(',', 70509), ('the', 62103), (':', 43766), ('and', 38847), ('of', 34480), ('.', 26160), ('to', 13396), ('And', 12846), ('that', 12576), ('in', 12331)] \n",
      "\n",
      "\n",
      "blake-poems.txt [(',', 680), ('the', 351), ('.', 201), ('And', 176), ('and', 169), ('of', 131), ('I', 130), ('in', 116), ('a', 108), (\"'\", 104)] \n",
      "\n",
      "\n",
      "bryant-stories.txt [(',', 3481), ('the', 3086), ('and', 1873), ('.', 1817), ('to', 1165), ('a', 988), ('\"', 900), ('he', 872), ('of', 801), ('was', 706)] \n",
      "\n",
      "\n",
      "burgess-busterbrown.txt [('.', 823), (',', 822), ('the', 639), ('he', 562), ('and', 484), ('to', 426), (\"'\", 401), ('of', 326), ('that', 285), ('a', 275)] \n",
      "\n",
      "\n",
      "carroll-alice.txt [(',', 1993), (\"'\", 1731), ('the', 1527), ('and', 802), ('.', 764), ('to', 725), ('a', 615), ('I', 543), ('it', 527), ('she', 509)] \n",
      "\n",
      "\n",
      "chesterton-ball.txt [(',', 4547), ('the', 4523), ('.', 3589), ('of', 2529), ('and', 2488), ('a', 2184), ('\"', 1751), ('to', 1558), ('in', 1355), ('that', 1120)] \n",
      "\n",
      "\n",
      "chesterton-brown.txt [('the', 4321), (',', 4069), ('.', 2784), ('of', 2087), ('and', 2074), ('a', 2074), ('\"', 1461), ('to', 1378), ('in', 1205), ('was', 1141)] \n",
      "\n",
      "\n",
      "chesterton-thursday.txt [(',', 3488), ('the', 3291), ('.', 2717), ('a', 1713), ('of', 1710), ('and', 1568), ('\"', 1336), ('to', 1045), ('in', 888), ('I', 885)] \n",
      "\n",
      "\n",
      "edgeworth-parents.txt [(',', 15219), ('the', 7149), ('.', 6945), ('to', 5150), ('and', 4769), ('\"', 3880), ('of', 3730), ('I', 3656), (\"'\", 3293), ('a', 3017)] \n",
      "\n",
      "\n",
      "melville-moby_dick.txt [(',', 18713), ('the', 13721), ('.', 6862), ('of', 6536), ('and', 6024), ('a', 4569), ('to', 4542), (';', 4072), ('in', 3916), ('that', 2982)] \n",
      "\n",
      "\n",
      "milton-paradise.txt [(',', 10198), ('and', 2799), ('the', 2505), (';', 2317), ('to', 1758), ('of', 1486), ('.', 1254), ('in', 1083), ('his', 986), ('with', 876)] \n",
      "\n",
      "\n",
      "shakespeare-caesar.txt [(',', 2204), ('.', 1296), ('I', 531), ('the', 502), (':', 499), ('and', 409), (\"'\", 384), ('to', 370), ('you', 342), ('of', 336)] \n",
      "\n",
      "\n",
      "shakespeare-hamlet.txt [(',', 2892), ('.', 1886), ('the', 860), (\"'\", 729), ('and', 606), ('of', 576), ('to', 576), (':', 565), ('I', 553), ('you', 479)] \n",
      "\n",
      "\n",
      "shakespeare-macbeth.txt [(',', 1962), ('.', 1235), (\"'\", 637), ('the', 531), (':', 477), ('and', 376), ('I', 333), ('of', 315), ('to', 311), ('?', 241)] \n",
      "\n",
      "\n",
      "whitman-leaves.txt [(',', 17713), ('the', 8814), ('and', 4797), ('of', 4127), ('I', 2932), (\"'\", 2362), ('to', 1930), ('-', 1774), ('.', 1769), ('in', 1714)] \n",
      "\n",
      "\n"
     ]
    }
   ],
   "source": [
    "import nltk\n",
    "from nltk.corpus import gutenberg\n",
    "from collections import Counter\n",
    "files = gutenberg.fileids()\n",
    "for file in files:\n",
    "    file_words = gutenberg.words(file)\n",
    "    words_counter = Counter(file_words)\n",
    "    print(file, words_counter.most_common(10), '\\n\\n')"
   ]
  },
  {
   "cell_type": "markdown",
   "metadata": {},
   "source": [
    "### Excercise 2 Answer\n",
    "Find the most frequent word with length of at least 7 characters."
   ]
  },
  {
   "cell_type": "code",
   "execution_count": 20,
   "metadata": {
    "collapsed": true,
    "slideshow": {
     "slide_type": "-"
    }
   },
   "outputs": [
    {
     "name": "stdout",
     "output_type": "stream",
     "text": [
      "[('against', 2255), ('children', 2223), ('himself', 1697), ('because', 1619), ('without', 1530), ('through', 1482), ('thought', 1339)]\n"
     ]
    }
   ],
   "source": [
    "import nltk\n",
    "from nltk.corpus import gutenberg\n",
    "from collections import Counter\n",
    "files = gutenberg.fileids()\n",
    "all_words=gutenberg.words(files)\n",
    "selected = [word for word in all_words if len(word) >= 7]\n",
    "counter = Counter(selected)\n",
    "result = counter.most_common(7)\n",
    "print(result)\n"
   ]
  },
  {
   "cell_type": "markdown",
   "metadata": {},
   "source": [
    "### Excercise 3 Answer\n",
    "Find the words that are longer than 7 characters and occur more than 7 times."
   ]
  },
  {
   "cell_type": "code",
   "execution_count": 35,
   "metadata": {
    "collapsed": true
   },
   "outputs": [
    {
     "name": "stdout",
     "output_type": "stream",
     "text": [
      "['Woodhouse', 'handsome', 'comfortable', 'disposition', 'blessings', 'existence', 'distress', 'youngest', 'daughters', 'affectionate', 'indulgent', 'consequence', 'marriage', 'mistress', 'remembrance', 'supplied', 'excellent', 'governess', 'affection', 'particularly', 'intimacy', 'mildness', 'restraint', 'authority', 'together', 'mutually', 'attached', 'judgment', 'directed', 'situation', 'threatened', 'enjoyments', 'disagreeable', 'consciousness', 'mournful', 'continuance', 'prospect', 'composed', 'happiness', 'unexceptionable', 'character', 'suitable', 'pleasant', 'satisfaction', 'considering', 'generous', 'friendship', 'promoted', 'recalled', 'kindness', 'childhood', 'gratitude', 'intercourse', 'unreserve', 'followed', 'Isabella', 'recollection', 'companion', 'possessed', 'intelligent', 'informed', 'interested', 'concerns', 'peculiarly', 'pleasure', 'difference', 'advantages', 'domestic', 'suffering', 'intellectual', 'solitude', 'conversation', 'rational', 'disparity', 'increased', 'constitution', 'activity', 'everywhere', 'friendliness', 'recommended', 'comparatively', 'matrimony', 'November', 'struggled', 'Hartfield', 'Christmas', 'children', 'Highbury', 'populous', 'separate', 'afforded', 'acquaintance', 'universally', 'accepted', 'melancholy', 'impossible', 'necessary', 'cheerful', 'required', 'depressed', 'reconciled', 'daughter', 'marrying', 'compassion', 'entirely', 'selfishness', 'differently', 'disposed', 'cheerfully', 'thoughts', 'humoured', 'thoroughly', 'deserves', 'advantage', 'Randalls', 'distance', 'carriage', 'anywhere', 'mentioned', 'slighted', 'Whenever', 'needlework', 'somebody', 'exertions', 'maintain', 'tolerably', 'attacked', 'immediately', 'afterwards', 'unnecessary', 'Knightley', 'sensible', 'intimate', 'connected', 'frequent', 'directly', 'connexions', 'returned', 'Brunswick', 'circumstance', 'animated', 'inquiries', 'answered', 'gratefully', 'observed', 'shocking', 'beautiful', 'moonlight', 'surprising', 'dreadfully', 'breakfast', 'congratulations', 'business', 'possibly', 'question', 'dependence', 'independence', 'fanciful', 'troublesome', 'creature', 'certainly', 'sometimes', 'horrible', 'agreeable', 'reflection', 'punctual', 'acceptable', 'important', 'provision', 'therefore', 'forgotten', 'considerable', 'whatever', 'greatest', 'amusement', 'perfectly', 'constantly', 'occupied', 'wherever', 'nonsense', 'believed', 'Broadway', 'gallantry', 'borrowed', 'instance', 'understand', 'endeavour', 'properly', 'delicately', 'endeavouring', 'employment', 'planning', 'yourself', 'pictures', 'something', 'comprehend', 'unaffected', 'interference', 'rejoined', 'understanding', 'grievously', 'comfortably', 'attention', 'laughing', 'respectable', 'generations', 'gentility', 'property', 'received', 'education', 'succeeding', 'indisposed', 'pursuits', 'brothers', 'satisfied', 'entering', 'favourite', 'military', 'introduced', 'Churchill', 'Yorkshire', 'surprized', 'importance', 'connexion', 'proportion', 'infinite', 'mortification', 'goodness', 'resolution', 'unreasonable', 'comparison', 'Enscombe', 'considered', 'especially', 'Churchills', 'relieved', 'additional', 'lingering', 'reconciliation', 'scruples', 'reluctance', 'supposed', 'overcome', 'considerations', 'complete', 'desirable', 'established', 'favourable', 'occupation', 'pleasures', 'eighteen', 'realised', 'purchase', 'adjoining', 'according', 'friendly', 'influence', 'determination', 'settling', 'steadily', 'accomplished', 'obtained', 'beginning', 'probability', 'delightful', 'adoption', 'unlikely', 'assistance', 'apprehension', 'capricious', 'governed', 'sufficiently', 'belonging', 'prospects', 'curiosity', 'prevailed', 'compliment', 'achieved', 'generally', 'proposed', 'strengthened', 'understood', 'occasion', 'included', 'pleasing', 'irresistible', 'addition', 'expression', 'fortunate', 'separation', 'difficulties', 'convenient', 'solitary', 'circumstances', 'approaching', 'spending', 'evenings', 'altogether', 'enjoyment', 'apparent', 'surprize', 'attended', 'recovering', 'compliments', 'neighbours', 'sorrowful', 'different', 'regarded', 'earnestly', 'dissuade', 'consulting', 'apothecary', 'gentlemanlike', 'comforts', 'acknowledge', 'inclination', 'confirmation', 'benevolent', 'residence', 'families', 'including', 'comprehended', 'persuasion', 'preferred', 'scarcely', 'standing', 'privilege', 'invitation', 'hardship', 'harmless', 'uncommon', 'superiority', 'atonement', 'frighten', 'distinction', 'possible', 'universal', 'contented', 'surrounded', 'simplicity', 'cheerfulness', 'grateful', 'recommendation', 'felicity', 'communications', 'establishment', 'professed', 'sentences', 'morality', 'principles', 'enormous', 'fashioned', 'reasonable', 'quantity', 'themselves', 'reckoned', 'wholesome', 'entitled', 'occasional', 'formerly', 'particular', 'whenever', 'fireside', 'frequently', 'concerned', 'delighted', 'anticipated', 'respectful', 'seventeen', 'interest', 'gracious', 'Somebody', 'condition', 'acquired', 'happened', 'features', 'sweetness', 'determined', 'continue', 'remarkably', 'engaging', 'unwilling', 'becoming', 'deference', 'pleasantly', 'admitted', 'impressed', 'appearance', 'superior', 'encouragement', 'inferior', 'unworthy', 'residing', 'knowledge', 'elegance', 'introduce', 'opinions', 'interesting', 'admiring', 'listening', 'forwards', 'alacrity', 'indifferent', 'attentively', 'recommend', 'occasions', 'feelings', 'conviction', 'hospitality', 'welcomed', 'visitors', 'thorough', 'approbation', 'clearing', 'understands', 'satisfactory', 'intentions', 'introduction', 'gratified', 'actually', 'inviting', 'encouraging', 'foreseen', 'shrubbery', 'divisions', 'sufficed', 'exercise', 'confined', 'ventured', 'valuable', 'approved', 'confirmed', 'desiring', 'attachment', 'strength', 'expected', 'convinced', 'sentiment', 'distinct', 'independent', 'attempts', 'questions', 'discovered', 'penetration', 'teachers', 'naturally', 'describe', 'encouraged', 'enjoying', 'youthful', 'exultation', 'thinking', 'immediate', 'fancying', 'appeared', 'narrative', 'evidently', 'obliging', 'shepherd', 'information', 'entertaining', 'Children', 'Kingston', 'horseback', 'precisely', 'creditable', 'birthday', 'fortnight', 'probably', 'beforehand', 'Whatever', 'employed', 'diligence', 'acquainted', 'objected', 'misfortune', 'associates', 'gentleman', 'advisable', 'Elizabeth', 'educated', 'ignorant', 'alarming', 'symptoms', 'difficulty', 'arrangement', 'respectfully', 'unfeigned', 'opportunity', 'contrasted', 'gentlemen', 'insensible', 'voluntarily', 'gentleness', 'admiration', 'remained', 'happening', 'undoubtedly', 'compared', 'imagined', 'mortified', 'repeatedly', 'specimens', 'perceiving', 'wondering', 'Certainly', 'carrying', 'speaking', 'disgusting', 'awkwardness', 'detestable', 'solemnly', 'completely', 'appearances', 'forgetting', 'illiterate', 'remember', 'displeasure', 'openness', 'quickness', 'downright', 'commanding', 'contrary', 'softness', 'repeated', 'personal', 'probable', 'equalled', 'doubtful', 'sufficient', 'vicarage', 'deficiency', 'meetings', 'foundation', 'fastidious', 'conquered', 'supplying', 'yesterday', 'agreeing', 'associate', 'objection', 'inducement', 'regularly', 'arranged', 'fourteen', 'preserved', 'expecting', 'requiring', 'industry', 'patience', 'subjection', 'persuade', 'feelingly', 'dependent', 'preparing', 'receiving', 'material', 'vexation', 'ignorance', 'flattery', 'presenting', 'inferiority', 'uncomfortable', 'mistaken', 'varieties', 'brilliant', 'countenance', 'complexion', 'personally', 'confidence', 'qualities', 'frightened', 'consider', 'somewhat', 'discussion', 'supposing', 'inconvenience', 'apprehended', 'province', 'declares', 'hereabouts', 'creating', 'respecting', 'suspected', 'transition', 'direction', 'decidedly', 'hesitation', 'following', 'assurance', 'confident', 'perception', 'striking', 'improvement', 'graceful', 'attractions', 'infinitely', 'contradict', 'decision', 'principally', 'animation', 'likeness', 'exclaimed', 'exquisite', 'possession', 'attempted', 'tolerable', 'charming', 'drawings', 'inimitable', 'raptures', 'delicate', 'difficult', 'peculiarity', 'answering', 'persuaded', 'proposal', 'pressing', 'produced', 'containing', 'portraits', 'finished', 'beginnings', 'displayed', 'progress', 'steadiness', 'approached', 'excellence', 'deceived', 'musician', 'reputation', 'deserved', 'spirited', 'companions', 'performances', 'sleeping', 'provoked', 'flattering', 'persuading', 'husbands', 'repeating', 'declaration', 'portrait', 'destined', 'honourable', 'blushing', 'attitude', 'presented', 'watching', 'elsewhere', 'occurred', 'listened', 'smallest', 'intermission', 'displeased', 'complaisance', 'considerably', 'memorial', 'associations', 'promising', 'entreated', 'permission', 'attending', 'civilities', 'accompanied', 'continual', 'defended', 'suspecting', 'addressing', 'eyebrows', 'resemblance', 'Consider', 'presents', 'proportions', 'shoulders', 'admirable', 'depended', 'December', 'stirring', 'commission', 'executing', 'repetition', 'entreaties', 'assurances', 'directions', 'precious', 'principal', 'services', 'agitated', 'announcing', 'extraordinary', 'contained', 'expectation', 'composition', 'language', 'sentiments', 'conveyed', 'expressed', 'liberality', 'propriety', 'delicacy', 'anxiously', 'strongly', 'returning', 'speedily', 'intelligible', 'expressions', 'requires', 'prompted', 'disappointment', 'continued', 'apprehend', 'bewitching', 'powerful', 'hesitate', 'hesitating', 'graciously', 'definition', 'confused', 'thoughtfully', 'mechanically', 'impatience', 'suspense', 'approving', 'wavering', 'forcibly', 'dreadful', 'banished', 'conceited', 'conscience', 'opposing', 'visiting', 'consideration', 'consolation', 'sentence', 'tendency', 'decisive', 'ungrateful', 'bringing', 'conquest', 'attentions', 'Hitherto', 'explained', 'cheering', 'rejected', 'original', 'allowing', 'suspicious', 'imaginations', 'stronger', 'gradually', 'previously', 'civility', 'ceremony', 'offering', 'contrast', 'apologies', 'stranger', 'substitute', 'entertain', 'likewise', 'seemingly', 'inclined', 'voluntary', 'improved', 'intended', 'Something', 'tiresome', 'contradiction', 'presently', 'desperately', 'imprudent', 'esteemed', 'counsellor', 'detained', 'absolutely', 'inferred', 'indignation', 'simpleton', 'incomprehensible', 'Nonsense', 'relations', 'experience', 'tempered', 'partiality', 'statement', 'estimated', 'allowance', 'ambition', 'proceeded', 'farthest', 'assertion', 'contemptible', 'represent', 'possesses', 'recommendations', 'certainty', 'consequently', 'comprehending', 'readiness', 'delights', 'wondered', 'receives', 'perceive', 'unfortunate', 'mischief', 'expectations', 'obscurity', 'disgrace', 'involved', 'revealed', 'encourage', 'desperate', 'application', 'sincerity', 'habitual', 'opposite', 'unpleasant', 'thousand', 'abruptly', 'provoking', 'exceedingly', 'adversary', 'materially', 'possibility', 'prominent', 'uneasiness', 'pretensions', 'attentive', 'otherwise', 'prudence', 'originally', 'conscious', 'significantly', 'forgiven', 'proceedings', 'justified', 'remembered', 'furnished', 'improving', 'chapters', 'intention', 'pleasanter', 'imagination', 'labouring', 'comprehension', 'literary', 'collecting', 'ornamented', 'literature', 'assisted', 'invention', 'recollect', 'contribute', 'intently', 'recollections', 'affliction', 'security', 'freshness', 'addressed', 'collection', 'pondered', 'puzzling', 'confusion', 'addresses', 'convince', 'observations', 'eagerness', 'syllable', 'concluding', 'congratulate', 'alliance', 'embraces', 'acknowledgment', 'strangest', 'Shakespeare', 'Michaelmas', 'invitations', 'preached', 'provided', 'twelvemonth', 'declining', 'exception', 'committed', 'submitted', 'overpowered', 'ridiculous', 'distinctly', 'explanations', 'conclusion', 'approach', 'grandmama', 'inconvenient', 'necessity', 'thankful', 'promises', 'accomplish', 'submissive', 'affected', 'frightful', 'whichever', 'preparation', 'discerned', 'ostensible', 'promised', 'declined', 'examined', 'effusion', 'honoured', 'speeches', 'charitable', 'detached', 'Vicarage', 'irregular', 'dwellings', 'proprietor', 'slackened', 'observing', 'curtains', 'intimately', 'contrive', 'pretence', 'housekeeper', 'recollecting', 'formidable', 'relative', 'unmarried', 'contract', 'contracted', 'shilling', 'sixpence', 'resources', 'occupations', 'affections', 'sensation', 'grandmother', 'compassionate', 'distresses', 'temptations', 'romantic', 'troubles', 'sympathy', 'intelligence', 'sickness', 'remaining', 'impression', 'trifling', 'creatures', 'slippery', 'stopping', 'wretchedness', 'exertion', 'wretched', 'distressing', 'ourselves', 'sufferings', 'accompany', 'increase', 'footpath', 'alteration', 'stooping', 'overtaken', 'obligation', 'involuntarily', 'experienced', 'interests', 'throwing', 'acknowledged', 'communicated', 'incessant', 'practicable', 'successfully', 'purposely', 'allusions', 'cautious', 'advances', 'believes', 'ingenious', 'measures', 'anticipation', 'henceforth', 'exciting', 'holidays', 'coachman', 'needless', 'competent', 'reaching', 'dispersed', 'respected', 'maternal', 'solicitude', 'instantly', 'attendance', 'drinking', 'restless', 'tenderly', 'inherited', 'Wingfield', 'benevolence', 'profession', 'reserved', 'prevented', 'reproach', 'perfection', 'worshipping', 'clearness', 'ungracious', 'blindness', 'forbearance', 'peculiarities', 'bestowed', 'cordiality', 'grievous', 'hesitated', 'excepting', 'disengaged', 'convenience', 'advocate', 'September', 'exceeding', 'Weymouth', 'procuring', 'quarrelled', 'estimate', 'renewing', 'argument', 'bitterly', 'disappointed', 'succeeded', 'calmness', 'indifference', 'requisite', 'subjects', 'occasionally', 'magistrate', 'destination', 'equality', 'rendered', 'interrupting', 'terribly', 'discourse', 'weakness', 'miserable', 'practice', 'attributed', 'applying', 'confound', 'neighbourhood', 'vicinity', 'fatigued', 'intending', 'Scotland', 'prejudice', 'praising', 'accidentally', 'excessively', 'Campbell', 'agitation', 'unfortunately', 'failures', 'dangerous', 'consequences', 'interval', 'moreover', 'lodgings', 'consulted', 'breaking', 'conceive', 'reflections', 'unconsciously', 'soothing', 'mornings', 'engagement', 'avoiding', 'preference', 'division', 'carriages', 'feverish', 'excluded', 'representing', 'advanced', 'hastening', 'complaint', 'inflamed', 'interfere', 'previous', 'muttering', 'rejoicing', 'accepting', 'exulting', 'employments', 'prepared', 'overlook', 'moderate', 'negligent', 'astonishment', 'imagining', 'behaviour', 'accordingly', 'ascertain', 'blunders', 'mistakes', 'increasing', 'coldness', 'happiest', 'sacrifice', 'expressing', 'encounter', 'absurdity', 'clothing', 'defiance', 'servants', 'shivering', 'travelling', 'dressing', 'lengthened', 'flattered', 'complaints', 'contrivances', 'afternoon', 'extremely', 'astonished', 'hospitable', 'accommodate', 'disperse', 'arrangements', 'communication', 'engrossed', 'continually', 'internal', 'suggestion', 'transfer', 'insufferable', 'preserve', 'positively', 'overpowering', 'reviving', 'sensations', 'appearing', 'substance', 'released', 'assented', 'sacrifices', 'calculate', 'sanguine', 'blessing', 'confinement', 'apprehensive', 'jealousy', 'individual', 'perverse', 'earnestness', 'concealing', 'inconstancy', 'abominable', 'disorder', 'scrupulous', 'careless', 'catching', 'complain', 'assuming', 'offended', 'removing', 'examining', 'drifting', 'engagements', 'consternation', 'pursuing', 'midnight', 'confessing', 'hurrying', 'accommodation', 'exclamation', 'representation', 'adventurous', 'appeased', 'deposited', 'carefully', 'discovery', 'suspicions', 'quarters', 'restrain', 'demanded', 'declaring', 'resolved', 'seriously', 'drunkenness', 'Accordingly', 'amazement', 'protested', 'suspicion', 'slightly', 'acknowledging', 'presumption', 'struggles', 'politeness', 'witnessed', 'professions', 'adoration', 'uppermost', 'joyously', 'interpret', 'attraction', 'supplication', 'swelling', 'resentment', 'emotions', 'embarrassment', 'indispensable', 'indescribable', 'irritation', 'trembling', 'solicitous', 'perturbation', 'separating', 'overthrow', 'development', 'unwelcome', 'humiliation', 'indebted', 'mortifying', 'respects', 'proposals', 'insulted', 'pretended', 'abundance', 'belonged', 'courtesy', 'ordinary', 'observation', 'introducing', 'explanation', 'continuing', 'temporary', 'operation', 'softened', 'brighter', 'atmosphere', 'prisoner', 'seclusion', 'lamentations', 'innocently', 'feminine', 'compliance', 'regretted', 'impossibility', 'commands', 'announced', 'solemnity', 'promptitude', 'recovered', 'confession', 'attaching', 'abundantly', 'resemble', 'discreet', 'striving', 'composure', 'betraying', 'maintained', 'resolutely', 'inevitable', 'persisting', 'moderation', 'restored', 'suffered', 'temptation', 'announce', 'perceived', 'arguments', 'unnatural', 'luxurious', 'contrived', 'conceived', 'watering', 'interior', 'messages', 'opposition', 'situations', 'Standing', 'principle', 'transported', 'obedience', 'yielding', 'preventing', 'singular', 'signified', 'treasure', 'throughout', 'breathing', 'practised', 'presumed', 'imperfection', 'apartment', 'cordially', 'knitting', 'commendation', 'handsomely', 'inquiring', 'unexpected', 'spectacles', 'handwriting', 'beautifully', 'pondering', 'meanwhile', 'remarkable', 'Saturday', 'Wednesday', 'Campbells', 'impatient', 'kingdoms', 'countries', 'accompanying', 'backward', 'whirling', 'presence', 'considerate', 'glancing', 'regiment', 'consumption', 'deserving', 'hereafter', 'discipline', 'abilities', 'nineteen', 'qualified', 'instruction', 'judicious', 'suggestions', 'fortitude', 'retained', 'resisted', 'weakened', 'discharged', 'recovery', 'accusation', 'examination', 'magnified', 'complacency', 'rendering', 'pitiable', 'mischievous', 'suggested', 'resolving', 'effectually', 'prejudices', 'reappeared', 'description', 'offences', 'necessarily', 'affectation', 'greatness', 'performance', 'suspiciously', 'distinguished', 'changing', 'provocation', 'entertained', 'instrument', 'indulgence', 'deficient', 'discretion', 'perseverance', 'heritage', 'neighbour', 'joyfully', 'absorbing', 'starting', 'standard', 'whispered', 'discoveries', 'strictly', 'lamented', 'strangers', 'evidence', 'corresponding', 'umbrella', 'whispering', 'sincerely', 'described', 'disturbed', 'Ambition', 'discerning', 'hitherto', 'Christian', 'thousands', 'rapidity', 'distinguishing', 'glorious', 'accidental', 'scattered', 'fearless', 'cautiously', 'preparations', 'profitable', 'lessened', 'uncertain', 'merchant', 'attorney', 'grandeur', 'somewhere', 'shoulder', 'conjecture', 'perpetually', 'furniture', 'invariable', 'irritated', 'ceaseless', 'entertainment', 'Sometimes', 'unhappiness', 'occasioned', 'ingratitude', 'determine', 'applications', 'collected', 'commonplace', 'measured', 'Impossible', 'separated', 'commonest', 'Presently', 'accosted', 'exhausted', 'sparkling', 'unconscious', 'innocent', 'amendment', 'sluggish', 'tranquillity', 'faithful', 'downstairs', 'falsehood', 'reception', 'thanking', 'extravagant', 'acquiescence', 'detected', 'foreseeing', 'treachery', 'fashionable', 'permitted', 'constant', 'securing', 'confessed', 'positive', 'particulars', 'recollected', 'successful', 'betrayed', 'peculiar', 'fortunately', 'disputing', 'pronounce', 'conclude', 'hesitatingly', 'vouchsafed', 'sensibility', 'stupidity', 'improper', 'checking', 'outwardly', 'critical', 'wickedness', 'conquering', 'perpetual', 'blockhead', 'accommodations', 'inevitably', 'willingly', 'extravagance', 'newspaper', 'Although', 'occurrence', 'expenses', 'assembled', 'consisting', 'solicited', 'numerous', 'resigned', 'desirous', 'incumbent', 'lessening', 'deliberately', 'treatment', 'concealed', 'undaunted', 'impudent', 'vanities', 'noticing', 'practise', 'plentiful', 'strongest', 'politics', 'surrender', 'relating', 'pianoforte', 'bewildered', 'rejoiced', 'delightfully', 'instruments', 'indulging', 'February', 'honestly', 'accident', 'overboard', 'consequent', 'interrupted', 'paternal', 'blooming', 'heartily', 'purchased', 'dwelling', 'restrained', 'abundant', 'questioned', 'reasonably', 'retirement', 'distinguish', 'thoughtful', 'assisting', 'humanity', 'disinterested', 'supplanted', 'imprudence', 'shameful', 'reproached', 'correctly', 'asserted', 'momentary', 'objections', 'indicate', 'indignantly', 'touching', 'dignified', 'splendour', 'transgressed', 'submission', 'idleness', 'vigorously', 'comforted', 'sunshine', 'execution', 'producing', 'obstinate', 'quarrelling', 'gingerbread', 'enlarged', 'Immediately', 'fastening', 'sweeping', 'distressed', 'remainder', 'unluckily', 'upstairs', 'narration', 'staircase', 'narrower', 'deprived', 'slumbering', 'calculated', 'pronounced', 'conjectures', 'labourers', 'coloured', 'apparently', 'descried', 'scepticism', 'dimensions', 'discovering', 'undertook', 'reckoning', 'speculation', 'thoughtless', 'resorted', 'endeavoured', 'magnificent', 'measuring', 'purposes', 'projected', 'exchange', 'inhabited', 'perplexity', 'draughts', 'miserably', 'sandwiches', 'suggesting', 'proceeding', 'uncertainty', 'prosperous', 'affording', 'indignant', 'unwillingness', 'reflected', 'destroyed', 'doubtfully', 'reflecting', 'embarrassed', 'completed', 'incapable', 'correspond', 'constancy', 'weariness', 'triumphant', 'contradicted', 'opportunities', 'headache', 'imaginary', 'struggle', 'allusion', 'supposition', 'exterior', 'attractive', 'precision', 'subsequent', 'speculations', 'confirming', 'attained', 'ingenuity', 'convincing', 'violence', 'tenderness', 'devotion', 'retreated', 'composedly', 'familiar', 'Suckling', 'entrance', 'appealed', 'exclaiming', 'reminded', 'enchanted', 'extensive', 'beauties', 'silenced', 'exploring', 'barouche', 'wonderful', 'instances', 'secluded', 'passionately', 'accustomed', 'spacious', 'apartments', 'pardoned', 'establish', 'discover', 'diverted', 'departure', 'neglected', 'breeding', 'interview', 'colouring', 'contemptuous', 'fragrance', 'eligible', 'punishment', 'protection', 'astonishing', 'According', 'refusing', 'inflicted', 'comparative', 'pressure', 'insulting', 'permanent', 'triumphantly', 'dissipated', 'accounts', 'stricken', 'professional', 'reluctant', 'summoned', 'situated', 'concentrated', 'quivering', 'stockings', 'patiently', 'capacity', 'teaching', 'specimen', 'fetching', 'encountered', 'expedition', 'schoolroom', 'intellect', 'ornaments', 'finishing', 'weighing', 'observant', 'overheard', 'interruption', 'southward', 'complained', 'incredible', 'interposed', 'stationary', 'plantation', 'disappointments', 'mentioning', 'gratifying', 'injustice', 'indolent', 'helpless', 'insolence', 'heretofore', 'subsided', 'entangled', 'absolute', 'tranquil', 'influenced', 'fluttered', 'trusting', 'declared', 'medicine', 'Richmond', 'obstacle', 'lightened', 'arriving', 'contents', 'gestures', 'movements', 'transformation', 'Caroline', 'standers', 'pretending', 'sauntering', 'maintaining', 'significant', 'hardened', 'Excellent', 'inquired', 'partners', 'Beautiful', 'unpardonable', 'suddenly', 'quickened', 'terrified', 'courageous', 'clamorous', 'impertinent', 'tempting', 'demanding', 'insolent', 'scissors', 'clinging', 'adventure', 'foresight', 'partially', 'concealment', 'trembled', 'indisposition', 'operations', 'slightest', 'seriousness', 'unfolded', 'plaister', 'Remember', 'senseless', 'secretly', 'remembering', 'twilight', 'dreaming', 'premature', 'preceded', 'suppressed', 'circular', 'quietness', 'pointing', 'proclaimed', 'distrust', 'excessive', 'imparted', 'twentieth', 'expressive', 'vouchsafe', 'staggered', 'prolonged', 'coolness', 'interchange', 'eventually', 'surprise', 'severity', 'goodwill', 'strawberries', 'ripening', 'anything', 'building', 'characteristic', 'stretching', 'covering', 'indulged', 'gathering', 'gardeners', 'delicious', 'refreshing', 'negative', 'insisted', 'prosperity', 'pastures', 'spreading', 'ascending', 'engravings', 'quitting', 'endurance', 'blameless', 'intolerable', 'prescribed', 'penetrating', 'concluded', 'acceptance', 'travelled', 'estimation', 'commanded', 'overcame', 'management', 'unanswerable', 'lowering', 'impudence', 'carelessly', 'murmured', 'gratification', 'explains', 'vivacity', 'characters', 'oppression', 'undertake', 'overtake', 'unfeeling', 'generosity', 'advancing', 'motionless', 'combined', 'abhorred', 'sweetest', 'scornful', 'ridicule', 'escaping', 'twinkling', 'Smallridge', 'indefatigable', 'rheumatic', 'messenger', 'astonish', 'meditations', 'heightened', 'instantaneous', 'movement', 'background', 'departed', 'mourning', 'earliest', 'refrained', 'communicating', 'appetite', 'tremulous', 'wandering', 'unaccountable', 'inspired', 'resuming', 'believing', 'utterance', 'expressly', 'impropriety', 'integrity', 'hypocrisy', 'comparing', 'communicate', 'recently', 'perplexed', 'privately', 'misunderstood', 'withdrawn', 'silently', 'irrational', 'enquired', 'counsels', 'threatening', 'delivered', 'agreement', 'unsuspected', 'relation', 'multiplied', 'footsteps', 'spontaneous', 'involuntary', 'delusion', 'incongruous', 'impartiality', 'Marriage', 'henceforward', 'confidential', 'essential', 'affecting', 'converse', 'energetic', 'consented', 'misconduct', 'contributed', 'foolishly', 'carelessness', 'surrounding', 'deserted', 'brightened', 'serenity', 'constrained', 'rewarded', 'hundreds', 'startled', 'reconcile', 'contemplation', 'awakened', 'velocity', 'attendant', 'disguised', 'enlightened', 'brilliancy', 'gladness', 'articles', 'contentment', 'sleepless', 'literally', 'enclosed', 'creation', 'correspondence', 'inheritance', 'indicated', 'brotherly', 'shamefully', 'consistent', 'officious', 'extended', 'subordinate', 'requested', 'threaten', 'foretold', 'repentance', 'dissolved', 'worshipped', 'reproaches', 'enduring', 'appointed', 'expedient', 'accounted', 'penetrate', 'minister', 'palpable', 'physician', 'commonly', 'whispers', 'magistrates', 'consultation', 'eccentric', 'artificial', 'bitterness', 'thirteen', 'attribute', 'oppressed', 'affectionately', 'marriages', 'secondly', 'singularly', 'habitation', 'chambers', 'overflowing', 'respectability', 'emphasis', 'brightest', 'disappearing', 'humility', 'disguise', 'transgression', 'northward', 'ornament', 'commended', 'disordered', 'regarding', 'completion', 'intervals', 'clergyman', 'hopeless', 'Kellynch', 'Somersetshire', 'contempt', 'paragraph', 'Musgrove', 'Uppercross', 'accurately', 'Cheshire', 'successive', 'judgement', 'bequeath', 'discontented', 'vanished', 'everybody', 'directing', 'revolving', 'blossoms', 'apprehensions', 'supported', 'conducted', 'offspring', 'contemptuously', 'Shepherd', 'branches', 'condescend', 'neighbouring', 'reference', 'resolute', 'aristocratic', 'cultivated', 'landlord', 'calculations', 'vigorous', 'everything', 'prevailing', 'household', 'profound', 'breathed', 'officers', 'Therefore', 'surprised', 'Everything', 'offensive', 'horribly', 'disdained', 'wrinkles', 'yourselves', 'Soldiers', 'poisonous', 'choosing', 'hastened', 'connection', 'conference', 'eloquent', 'Monkford', 'conception', 'trespass', 'Wentworth', 'Frederick', 'commander', 'snatched', 'realized', 'withstand', 'disadvantage', 'newspapers', 'Providence', 'polished', 'preliminary', 'sympathetic', 'preceding', 'grieving', 'entreaty', 'reasoning', 'projecting', 'assiduous', 'afflicted', 'desolate', 'substantial', 'parsonage', 'elevated', 'traveller', 'Thursday', 'shooting', 'Musgroves', 'duplicate', 'enquiries', 'Henrietta', 'pervading', 'inaccessible', 'contended', 'managing', 'interfering', 'preferring', 'uprightness', 'apologize', 'pathetic', 'unprofitable', 'schoolmaster', 'hysterics', 'replaced', 'scolding', 'countenances', 'learning', 'appointment', 'Plymouth', 'exclamations', 'beckoning', 'Harville', 'Mediterranean', 'transient', 'insignificant', 'Atlantic', 'possessions', 'connections', 'Winthrop', 'lightness', 'estranged', 'politely', 'crossing', 'straight', 'speechless', 'stepping', 'regretting', 'studying', 'Everybody', 'withered', 'poetical', 'inexhaustible', 'bursting', 'enthusiasm', 'stretched', 'buildings', 'succession', 'scornfully', 'overtook', 'firmness', 'brethren', 'retreating', 'withdrawing', 'dropping', 'instinctively', 'condemning', 'painfully', 'curricle', 'descending', 'machines', 'improvements', 'fragments', 'orchards', 'generation', 'exhibited', 'resembling', 'Harvilles', 'promotion', 'struggling', 'richness', 'precepts', 'examples', 'religious', 'performed', 'courteous', 'disposal', 'ascended', 'brightness', 'attempting', 'hardness', 'pavement', 'reasoned', 'lifeless', 'screamed', 'staggering', 'instinct', 'treading', 'swinging', 'vehement', 'multiply', 'comforters', 'dripping', 'compelled', 'guarding', 'persisted', 'proclaim', 'boasting', 'Marlborough', 'Buildings', 'glimpses', 'multitude', 'suspended', 'relationship', 'possessing', 'diffused', 'watchman', 'stealing', 'diminished', 'overlooked', 'conversing', 'Dalrymple', 'Honourable', 'Carteret', 'Westgate', 'invariably', 'transformed', 'merciful', 'designed', 'landlady', 'cushions', 'merchandise', 'expensive', 'ladyship', 'bewitched', 'cleansed', 'impressions', 'incurable', 'pavements', 'envelope', 'investigate', 'treating', 'shapeless', 'mightily', 'mountains', 'thickest', 'obviously', 'blinding', 'bewildering', 'significance', 'recognition', 'imperfect', 'withdraw', 'disappeared', 'foremost', 'scientific', 'translate', 'nameless', 'orchestra', 'sacrificed', 'consumed', 'farewell', 'incalculable', 'sporting', 'purification', 'instantaneously', 'official', 'doubting', 'farthing', 'grandfather', 'contradictory', 'document', 'nevertheless', 'testimonies', 'testimony', 'hypocrite', 'despised', 'straitened', 'springing', 'destruction', 'deception', 'consisted', 'ambitious', 'altering', 'overlooking', 'concerning', 'forgetful', 'wherewith', 'strictest', 'materials', 'painting', 'faltering', 'histories', 'proverbs', 'treasures', 'revolution', 'Anything', 'devoured', 'prophesied', 'immortality', 'obstinacy', 'overwhelmed', 'meditation', 'steadfast', 'ultimate', 'daylight', 'balanced', 'sounding', 'discomfited', 'transgressions', 'dividing', 'supplies', 'Dashwood', 'Gentleman', 'discharge', 'fortunes', 'attendants', 'whomsoever', 'effectual', 'Marianne', 'Margaret', 'Dashwoods', 'prodigious', 'doctrine', 'attracted', 'political', 'unobtrusive', 'severely', 'impenetrable', 'dissatisfied', 'uncommonly', 'Devonshire', 'Middleton', 'fulfilled', 'wandered', 'although', 'shutters', 'extremity', 'resembled', 'Middletons', 'sportsman', 'inhabitants', 'procured', 'Jennings', 'laughter', 'raillery', 'boisterous', 'position', 'celebrated', 'ecstatic', 'infirmity', 'waistcoat', 'bedchamber', 'Allenham', 'abounded', 'Willoughby', 'tomorrow', 'tumbling', 'violently', 'passages', 'familiarity', 'picturesque', 'deceitful', 'assigned', 'stubborn', 'everlasting', 'criminal', 'perverseness', 'pronouncing', 'withhold', 'provisions', 'excursion', 'invented', 'befallen', 'Delaford', 'handkerchief', 'exercised', 'departing', 'nourishment', 'forbidding', 'climbing', 'extending', 'eloquence', 'external', 'unanimous', 'disputes', 'deliberate', 'judgments', 'landscape', 'tattered', 'cottages', 'villages', 'conspicuous', 'satisfying', 'forgiveness', 'instructions', 'forbidden', 'knocking', 'Charlotte', 'meantime', 'monstrous', 'Cleveland', 'election', 'Parliament', 'languages', 'gathered', 'philosophy', 'enthusiastic', 'playthings', 'unceasing', 'credulous', 'searched', 'scratching', 'consists', 'countless', 'faithfully', 'Longstaple', 'sometime', 'confounded', 'frivolous', 'alienated', 'condemnation', 'filigree', 'terrible', 'profited', 'dismissed', 'separately', 'abandoned', 'decently', 'Wherever', 'mysterious', 'backwards', 'Berkeley', 'impatiently', 'incessantly', 'Scarcely', 'kneeling', 'obedient', 'deliverance', 'justification', 'condemned', 'covenant', 'barbarous', 'malignant', 'innocence', 'shuddering', 'repaired', 'swallowed', 'unfathomable', 'outstretched', 'passionate', 'withdrew', 'salutation', 'beholding', 'fourteenth', 'doubtless', 'tormented', 'strengthen', 'afflictions', 'brooding', 'assemblies', 'shillings', 'narrowly', 'conscientious', 'destroys', 'laboured', 'meanness', 'witnesses', 'muttered', 'performing', 'familiarly', 'fainting', 'complicated', 'represented', 'Gracious', 'conditions', 'disobedient', 'interrupt', 'Laughing', 'ordained', 'immovable', 'persecution', 'forenoon', 'mountain', 'eminence', 'lounging', 'gardener', 'wildness', 'medicines', 'withstood', 'lamentation', 'unusually', 'resistance', 'travellers', 'dispatch', 'passions', 'imminent', 'scorning', 'refreshed', 'embraced', 'reproved', 'temperate', 'unawares', 'smoothly', 'watchful', 'foundations', 'virtuous', 'murmurings', 'religion', 'grounded', 'sensitive', 'innumerable', 'westward', 'recognised', 'conspired', 'stammered', 'spoiling', 'unspeakable', 'unconquerable', 'afterward', 'appropriate', 'flourish', 'nobleman', 'shuffling', 'lingered', 'acquaintances', 'darkness', 'firmament', 'fruitful', 'creeping', 'creepeth', 'dominion', 'sanctified', 'nostrils', 'eastward', 'Ethiopia', 'Euphrates', 'whatsoever', 'shouldest', 'beguiled', 'hearkened', 'firstlings', 'fugitive', 'whosoever', 'vengeance', 'begotten', 'repented', 'corrupted', 'righteous', 'hundredth', 'seventeenth', 'fountains', 'selfsame', 'offerings', 'remaineth', 'vineyard', 'uncovered', 'nakedness', 'Tarshish', 'Gentiles', 'wherefore', 'Jebusite', 'Canaanites', 'Gomorrah', 'Arphaxad', 'journeyed', 'nativity', 'Chaldees', 'Canaanite', 'Egyptians', 'menservants', 'maidservants', 'journeys', 'numbered', 'thirteenth', 'rebelled', 'wilderness', 'Amalekites', 'Amorites', 'victuals', 'Damascus', 'slaughter', 'childless', 'righteousness', 'carcases', 'iniquity', 'Hittites', 'Perizzites', 'Jebusites', 'handmaid', 'Egyptian', 'fountain', 'Wherefore', 'fourscore', 'Almighty', 'circumcised', 'circumcise', 'foreskin', 'uncircumcised', 'Peradventure', 'unleavened', 'compassed', 'wickedly', 'brimstone', 'overthrew', 'firstborn', 'Moabites', 'sojourned', 'Abimelech', 'withheld', 'bondwoman', 'Beersheba', 'Philistines', 'concubine', 'sojourner', 'sepulchres', 'sepulchre', 'communed', 'audience', 'Mesopotamia', 'bracelets', 'destitute', 'proceedeth', 'prospered', 'millions', 'meditate', 'concubines', 'threescore', 'Padanaram', 'intreated', 'birthright', 'commandments', 'statutes', 'toucheth', 'mightier', 'peradventure', 'blesseth', 'sustained', 'favoured', 'Naphtali', 'wouldest', 'Issachar', 'speckled', 'captives', 'Mahanaim', 'messengers', 'breaketh', 'handmaids', 'deceitfully', 'peaceable', 'troubled', 'garments', 'earrings', 'Benjamin', 'Bethlehem', 'Aholibamah', 'Edomites', 'habitations', 'peaceably', 'obeisance', 'Midianites', 'sackcloth', 'whoredom', 'overseer', 'prisoners', 'interpretation', 'clusters', 'interpreted', 'magicians', 'plenteous', 'Forasmuch', 'handfuls', 'Manasseh', 'governor', 'besought', 'bereaved', 'straitly', 'oversight', 'abomination', 'marvelled', 'drinketh', 'posterity', 'speaketh', 'Moreover', 'commandment', 'shepherds', 'nourished', 'redeemed', 'excellency', 'assembly', 'salvation', 'embalmed', 'chariots', 'horsemen', 'threshingfloor', 'groaning', 'sojourneth', 'circumcision', 'pestilence', 'diminish', 'bringeth', 'Amminadab', 'Phinehas', 'enchantments', 'serpents', 'refuseth', 'Israelites', 'sprinkle', 'sprinkled', 'thunderings', 'thunders', 'darkened', 'maidservant', 'congregation', 'passover', 'ordinance', 'leavened', 'convocation', 'destroyer', 'Sanctify', 'firstling', 'encamped', 'captains', 'gloriously', 'overthrown', 'holiness', 'prophetess', 'diligently', 'diseases', 'fifteenth', 'Notwithstanding', 'commandeth', 'ordinances', 'covetousness', 'sanctify', 'lightnings', 'descended', 'guiltless', 'manservant', 'hallowed', 'adultery', 'polluted', 'betrothed', 'punished', 'testified', 'therewith', 'Whosoever', 'fatherless', 'Likewise', 'unrighteous', 'firstfruits', 'adversaries', 'sapphire', 'devouring', 'anointing', 'breastplate', 'sanctuary', 'tabernacle', 'cherubims', 'shewbread', 'candlestick', 'candlesticks', 'coupling', 'uttermost', 'forefront', 'overlaid', 'foursquare', 'hangings', 'consecrate', 'broidered', 'wreathen', 'underneath', 'pomegranates', 'pomegranate', 'forehead', 'breeches', 'anointed', 'covereth', 'consecration', 'consecrated', 'ointment', 'frankincense', 'Bezaleel', 'workmanship', 'sabbaths', 'defileth', 'proclamation', 'broughtest', 'thereunto', 'stiffnecked', 'stripped', 'longsuffering', 'chapiters', 'inclosed', 'fastened', 'priesthood', 'feathers', 'oblation', 'swearing', 'uncleanness', 'trespassed', 'fellowship', 'sweareth', 'offereth', 'Whatsoever', 'thanksgiving', 'purified', 'glorified', 'Nevertheless', 'divideth', 'grasshopper', 'whereupon', 'purifying', 'cleansing', 'spreadeth', 'wheresoever', 'appeareth', 'iniquities', 'abominations', 'profaned', 'stumblingblock', 'unrighteousness', 'reverence', 'dwelleth', 'balances', 'committeth', 'baldness', 'virginity', 'superfluous', 'freewill', 'corruption', 'thenceforth', 'Concerning', 'trumpets', 'celebrate', 'tabernacles', 'blasphemed', 'Shelomith', 'redemption', 'threshing', 'pursueth', 'chastise', 'desolation', 'Nethaneel', 'Elishama', 'renowned', 'ministered', 'Gershonites', 'Kohathites', 'ministry', 'entereth', 'recompense', 'recompensed', 'Nazarite', 'eleventh', 'dedication', 'bullocks', 'belongeth', 'assemble', 'forasmuch', 'quenched', 'cucumbers', 'loathsome', 'prophesy', 'prophets', 'Ethiopian', 'similitude', 'Jephunneh', 'searching', 'standeth', 'miracles', 'whoredoms', 'transgress', 'ignorantly', 'vineyards', 'visitation', 'perished', 'winepress', 'gathereth', 'discouraged', 'sunrising', 'captivity', 'reacheth', 'divination', 'valiantly', 'Reubenites', 'Zelophehad', 'pertained', 'Kadeshbarnea', 'executed', 'murderer', 'whereunto', 'righteously', 'beforetime', 'Ammonites', 'destroying', 'Furthermore', 'tribulation', 'mightest', 'instruct', 'heardest', 'affrighted', 'scorpions', 'destroyeth', 'rebellious', 'regardeth', 'overflow', 'dwellest', 'fierceness', 'cleaveth', 'desireth', 'controversy', 'portions', 'inasmuch', 'diligent', 'dedicated', 'dedicate', 'bulwarks', 'beheaded', 'chastened', 'drunkard', 'accursed', 'Ammonite', 'millstone', 'treadeth', 'forsaken', 'blasting', 'evermore', 'wormwood', 'persecuted', 'dismayed', 'rebellion', 'instructed', 'stirreth', 'strangely', 'recompence', 'calamity', 'glittering', 'whithersoever', 'pursuers', 'treasury', 'buildeth', 'ambassadors', 'Ashtaroth', 'Kirjathjearim', 'Jerusalem', 'Bethhoron', 'Makkedah', 'expelled', 'pertaining', 'distribute', 'distributed', 'Bethshemesh', 'Mareshah', 'outgoings', 'Anathoth', 'deliverer', 'Benjamite', 'notwithstanding', 'highways', 'governors', 'breaches', 'sustenance', 'Jerubbaal', 'companies', 'Zalmunna', 'treacherously', 'armourbearer', 'Gileadite', 'Zidonians', 'Jephthah', 'fugitives', 'Ashkelon', 'expounded', 'Bethlehemjudah', 'slothful', 'Jonathan', 'Benjamites', 'receiveth', 'threshold', 'lewdness', 'Jabeshgilead', 'stedfastly', 'petition', 'rejoiceth', 'stumbled', 'dunghill', 'seething', 'chiefest', 'wonderfully', 'Abinadab', 'thundered', 'straightway', 'speakest', 'garrison', 'psaltery', 'reigneth', 'Michmash', 'thickets', 'watchmen', 'honeycomb', 'bleating', 'troubleth', 'champion', 'Philistine', 'fighting', 'artillery', 'Ahimelech', 'Abiathar', 'ancients', 'withholden', 'faithfulness', 'assuredly', 'answereth', 'Cherethites', 'bracelet', 'Ishbosheth', 'Adonijah', 'Shephatiah', 'Mephibosheth', 'adversity', 'carpenters', 'psalteries', 'Obededom', 'shouting', 'stablish', 'Hadadezer', 'Jehoshaphat', 'recorder', 'Jehoiada', 'Hadarezer', 'besieged', 'Bathsheba', 'devoureth', 'blaspheme', 'Ahithophel', 'conspiracy', 'foolishness', 'Barzillai', 'lifetime', 'mourneth', 'Assemble', 'fortress', 'lightning', 'channels', 'teacheth', 'jeopardy', 'Netophathite', 'Azmaveth', 'Shunammite', 'Ramothgilead', 'builders', 'chapiter', 'ministers', 'merchants', 'Jeroboam', 'industrious', 'Rehoboam', 'warriors', 'Shemaiah', 'Whereupon', 'chronicles', 'eighteenth', 'Benhadad', 'diseased', 'earthquake', 'provinces', 'Jezreelite', 'Zedekiah', 'whirlwind', 'revolted', 'Athaliah', 'horseman', 'furiously', 'worshippers', 'Jehoahaz', 'followeth', 'murderers', 'thirtieth', 'Remaliah', 'Hezekiah', 'Sennacherib', 'Rabshakeh', 'blasphemy', 'downward', 'Assyrians', 'Meshullam', 'wardrobe', 'Jeremiah', 'Jehoiakim', 'Nebuchadnezzar', 'Jehoiachin', 'Mattaniah', 'Nebuzaradan', 'husbandmen', 'Zephaniah', 'Gedaliah', 'Nethaniah', 'Jerahmeel', 'Zerubbabel', 'Hananiah', 'Berechiah', 'Shechaniah', 'Elioenai', 'Eliashib', 'genealogy', 'Zechariah', 'genealogies', 'Malchiah', 'Hashabiah', 'soldiers', 'Jerimoth', 'Zebadiah', 'Nethinims', 'Jeduthun', 'treasuries', 'ministering', 'Mattithiah', 'mightiest', 'Maaseiah', 'wondrous', 'marvellous', 'kindreds', 'endureth', 'Shelemiah', 'footstool', 'searcheth', 'understandeth', 'thickness', 'scaffold', 'supplications', 'perfected', 'prophecy', 'servitude', 'Ethiopians', 'fornication', 'counsellors', 'filthiness', 'purposed', 'Nehemiah', 'Mordecai', 'Shealtiel', 'Ahasuerus', 'Artaxerxes', 'dishonour', 'insurrection', 'forthwith', 'Sherebiah', 'astonied', 'heaviness', 'desolations', 'trespasses', 'Sanballat', 'reported', 'Afterward', 'persecutors', 'manifold', 'recorded', 'outlandish', 'chamberlains', 'published', 'delighteth', 'feasting', 'Chaldeans', 'blackness', 'untimely', 'oppressor', 'faintest', 'perisheth', 'enterprise', 'headlong', 'throughly', 'hireling', 'withereth', 'increaseth', 'stedfast', 'shutteth', 'uttereth', 'believeth', 'hypocrites', 'persecute', 'redeemer', 'wrongfully', 'oppressors', 'departeth', 'inhabitant', 'derision', 'perishing', 'oftentimes', 'despiseth', 'preserveth', 'delivereth', 'exalteth', 'scattereth', 'correction', 'influences', 'trusteth', 'leviathan', 'covetous', 'uprightly', 'honoureth', 'lovingkindness', 'eyesight', 'bridegroom', 'ravening', 'moisture', 'considereth', 'contrite', 'deviseth', 'evildoers', 'transgressors', 'meekness', 'tempestuous', 'partaker', 'adulterers', 'converted', 'drunkards', 'synagogues', 'distracted', 'shortened', 'becometh', 'teachest', 'inventions', 'insomuch', 'reverend', 'undefiled', 'uprising', 'curiously', 'returneth', 'ravished', 'abounding', 'passengers', 'unpunished', 'contention', 'ambassador', 'innermost', 'contentions', 'outrageous', 'adulterous', 'embracing', 'manifest', 'admonished', 'preacher', 'counting', 'boldness', 'grinding', 'smelling', 'flourished', 'replenished', 'stumbling', 'disciples', 'government', 'Assyrian', 'tumultuous', 'constellations', 'mounting', 'treacherous', 'antiquity', 'languisheth', 'defenced', 'piercing', 'Prophesy', 'lighting', 'ravenous', 'carpenter', 'incensed', 'surnamed', 'millstones', 'astrologers', 'Redeemer', 'abolished', 'intercession', 'perfumes', 'eternity', 'uttering', 'planting', 'monuments', 'backsliding', 'commotion', 'northern', 'Nebuchadrezzar', 'stamping', 'monsters', 'burnished', 'foreheads', 'battering', 'parables', 'dishonest', 'mariners', 'chestnut', 'multitudes', 'blasphemies', 'Belteshazzar', 'Shadrach', 'Abednego', 'Belshazzar', 'scripture', 'spiritual', 'preaching', 'entrances', 'strangled', 'rattling', 'brotherhood', 'Nazareth', 'baptized', 'Pharisees', 'Sadducees', 'Capernaum', 'torments', 'publicans', 'heavenly', 'centurion', 'gnashing', 'infirmities', 'Daughter', 'apostles', 'Bartholomew', 'Iscariot', 'disciple', 'Beelzebub', 'synagogue', 'scorched', 'mysteries', 'unbelief', 'tradition', 'Caesarea', 'Philippi', 'faithless', 'thinkest', 'scriptures', 'resurrection', 'damnation', 'Pharisee', 'partakers', 'Zacharias', 'crucified', 'Caiaphas', 'testament', 'remission', 'Barabbas', 'Magdalene', 'manifested', 'executioner', 'questioning', 'disputed', 'lordship', 'vehemently', 'Alexander', 'Elisabeth', 'beckoned', 'exhortation', 'fishermen', 'launched', 'citizens', 'gorgeous', 'paradise', 'furlongs', 'shipping', 'murmuring', 'accusers', 'Henceforth', 'perdition', 'lanterns', 'dragging', 'Barnabas', 'churches', 'Cornelius', 'Christians', 'garlands', 'greeting', 'Timotheus', 'Macedonia', 'philosophers', 'superstitious', 'Farewell', 'temperance', 'superstition', 'specially', 'invisible', 'revelation', 'uncircumcision', 'disobedience', 'Brethren', 'conceits', 'transferred', 'spectacle', 'followers', 'incorruptible', 'communion', 'Conscience', 'governments', 'childish', 'edifying', 'celestial', 'experiment', 'traditions', 'elements', 'vocation', 'conflict', 'translated', 'archangel', 'immortal', 'godliness', 'vigilant', 'perilous', 'Traitors', 'Melchisedec', 'illuminated', 'devilish', 'authorities', 'pernicious', 'overcometh', 'malicious', 'bottomless', 'omnipotent', 'transparent', 'darkening', 'southern', 'chimneys', 'sweepers', 'Heavenly', 'harmonious', 'Nightingale', 'methought', 'prophetic', 'Underneath', 'frowning', 'shrouded', 'drooping', 'Seraphim', 'butterfly', 'peaceful', 'voiceless', 'warbling', 'terrific', 'glistening', 'whirlpool', 'Suddenly', 'rustling', 'fiercely', 'majestic', 'chocolate', 'Gingerbread', 'roadside', 'Rollaround', 'startling', 'Elephant', 'tightened', 'tremendous', 'slipping', 'fragrant', 'Northern', 'Epaminondas', 'villagers', 'swimming', 'Instantly', 'Alligator', 'sticking', 'splendid', 'godmother', 'experiences', 'memories', 'floating', 'hospital', 'shoemaker', 'customer', 'commenced', 'trousers', 'Tortoise', 'trailing', 'overhead', 'mouthful', 'pioneers', 'Mississippi', 'vegetables', 'crickets', 'swarming', 'crawling', 'streaming', 'trenches', 'flapping', 'hovering', 'Chamberlain', 'trampled', 'courtiers', 'diamonds', 'nightingale', 'Illustration', 'ploughed', 'platform', 'ploughing', 'wrinkled', 'chanting', 'fluttering', 'procession', 'cathedral', 'throbbing', 'absorbed', 'artistic', 'hammered', 'dazzling', 'poisoned', 'monument', 'customers', 'Catholics', 'commence', 'remarked', 'pitiless', 'sleepers', 'fireworks', 'whistled', 'gigantic', 'striding', 'challenge', 'processions', 'everyone', 'Gottlieb', 'splashed', 'homeward', 'screaming', 'Chatterer', 'Squirrel', 'fisherman', 'neighbors', 'Grandfather', 'retorted', 'whistling', 'footprint', 'excitement', 'Meanwhile', 'shrieked', 'lonesome', 'recognized', 'philosopher', 'adventures', 'Australia', 'whiskers', 'telescope', 'hurriedly', 'squeaking', 'mushroom', 'Caterpillar', 'muscular', 'sneezing', 'grinning', 'flinging', 'Dormouse', 'gloomily', 'straightened', 'hedgehog', 'lobsters', 'porpoise', 'parchment', 'shifting', 'applause', 'sprawling', 'downwards', 'signifies', 'imitated', 'clapping', 'Professor', 'professor', 'fantastic', 'eternally', 'nightmare', 'revolver', 'coincidence', 'civilization', 'religions', 'Cathedral', 'unearthly', 'combination', 'barbaric', 'maddening', 'Christianity', 'Catholic', 'interminable', 'practical', 'journalism', 'deathless', 'physical', 'elemental', 'universe', 'victorious', 'defeated', 'stillness', 'moustache', 'awaiting', 'hilarious', 'splinters', 'constable', 'turbulent', 'Atheist_', 'uplifted', 'Scotchman', 'Turnbull', 'Highlander', 'historical', 'supernatural', 'Victoria', 'Highland', 'selected', 'stolidly', 'brandishing', 'policemen', 'ponderous', 'shopkeeper', 'Cumberland', 'hopelessly', 'parallel', 'conceivable', 'automatic', 'branching', 'accidents', 'shadowed', 'Gentlemen', 'combatants', 'cigarette', 'vitality', 'infernal', 'opponent', 'murderous', 'thrusting', 'scraping', 'duellists', 'mechanical', 'bellowing', 'glimmering', 'policeman', 'realities', 'conventional', 'practically', 'comrades', 'Wilkinson', 'democratic', 'incident', 'inserted', 'colourless', 'announcement', 'simultaneously', 'Government', 'denounced', 'detective', 'revolutionary', 'intoxicated', 'shivered', 'mystical', 'elephants', 'journalist', 'plunging', 'criminals', 'Napoleon', 'isolation', 'sunlight', 'placidly', 'despairing', 'elephant', 'explaining', 'Confound', 'bewilderment', 'serenely', 'elaborate', 'lunatics', 'unmistakable', 'Revolution', 'strolled', 'heraldic', 'temporarily', 'indirectly', 'oriental', 'blinking', 'continent', 'commerce', 'continuous', 'strained', 'bounding', 'slanting', 'snapping', 'bankrupt', 'monotonous', 'humorous', 'vibrating', 'primitive', 'electric', 'combinations', 'baffling', 'formless', 'chauffeur', 'ruthless', 'menacing', 'champions', 'melodious', 'aspiring', 'captured', 'machinery', 'towering', 'steering', 'sergeant', 'arrogant', 'nowadays', 'schoolboy', 'thundering', 'grotesque', 'longitude', 'daybreak', 'lustrous', 'explosion', 'masculine', 'architecture', 'ornamental', 'semicircle', 'spectators', 'centuries', 'promontory', 'ironical', 'tropical', 'implements', 'skeleton', 'Paradise', 'apparition', 'reflectively', 'extremes', 'Madeleine', 'personality', 'peasants', 'Englishman', 'bowsprit', 'champagne', 'breathless', 'horizontal', 'whiteness', 'dynamite', 'murdered', 'almighty', 'hereditary', 'incidentally', 'madhouse', 'luminous', 'Pendragon', 'bleeding', 'grasping', 'twisting', 'problems', 'theories', 'careering', 'sinister', 'sideways', 'gunpowder', 'prairies', 'population', 'corridor', 'hatchway', 'reckless', 'Prussian', 'colossal', 'isolated', 'lovingly', 'labyrinth', 'Minister', 'inexplicable', 'structure', 'crowding', 'stalwart', 'restaurant', 'customary', 'indicates', 'Monsieur', 'superstitions', 'deafening', 'arrested', 'clenched', 'Everyone', 'Gutenberg', 'GUTENBERG', 'Foundation', 'Arkansas', 'Columbia', 'Illinois', 'Missouri', 'Tennessee', 'Virginia', 'Washington', 'products', 'chemistry', 'mechanics', 'clerical', 'intensity', 'Todhunter', 'triumphs', 'President', 'Republic', 'unquestionable', 'noiseless', 'swiftness', 'ineffable', 'Brothers', 'Harrogate', 'European', 'factories', 'paralytic', 'brigands', 'emptying', 'wheeling', 'splintered', 'impregnable', 'gendarmes', 'disaster', 'Darkness', 'imperial', 'civilized', 'Armagnac', 'Frenchman', 'anarchist', 'shattered', 'populace', 'Secretary', 'majority', 'confront', 'Flambeau', 'contains', 'Parkinson', 'American', 'Southern', 'cannibal', 'reliable', 'Falconroy', 'athletic', 'bayonets', 'submerged', 'Carstairs', 'Collection', 'halfpence', 'phantoms', 'resplendent', 'librarian', 'technically', 'triangular', 'landsman', 'Spaniard', 'alongside', 'cruising', 'venerable', 'uniforms', 'spouting', 'bandstand', 'Japanese', 'headsman', 'continents', 'attitudes', 'circling', 'Boulnois', 'Champion', 'Democracy', 'flashing', 'gardening', 'detectives', 'monomaniac', 'frequented', 'intricate', 'Paumanok', 'identical', 'nightfall', 'Rosamond', 'anarchists', 'subterranean', 'surround', 'Comrades', 'chairman', 'Witherspoon', 'underground', 'latitude', 'villains', 'twopence', 'Leicester', 'obscured', 'dissolution', 'marching', 'emerging', 'arithmetic', 'ethereal', 'numberless', 'spinning', 'expanded', 'remotest', 'recklessly', 'intuitions', 'fatality', 'Inspector', 'Ratcliffe', 'innkeeper', 'entrails', 'exasperated', 'Creation', 'Rossmore', 'schoolmistress', 'packthread', 'halfpenny', 'Lightfoot', 'Lawrence', 'sevenpence', 'cracking', 'cheating', 'snatching', 'slouched', 'Franklin', 'Corkscrew', 'alehouse', 'breakers', 'playhouse', 'Shrewsbury', 'hawthorn', 'Attorney', 'dexterous', 'avaricious', 'vengeful', 'revolved', 'milliner', 'sullenly', 'Strathspey', 'Somerville', 'shavings', 'Newington', 'Landlord', 'Piercefield', 'Violetta', 'Landlady', 'Finsbury', 'raspberry', 'raspberries', 'Brobdingnag', 'Guernsey', 'Sweepstakes', 'confectioner', 'prostrate', 'Montague', 'libraries', 'Carbuncle', 'Battersby', 'Christopher', 'Townsend', 'Greybeards', 'Greybeard', 'sagacious', 'perpendicularly', 'shuttlecock', 'mandarin', 'distemper', 'intrepid', 'Neapolitan', 'Francisco', 'panniers', 'compasses', 'Herculaneum', 'Vesuvius', 'eruption', 'proceeds', 'windlass', 'meanings', 'audacious', 'Dunstable', 'scotcher', 'Leviathan', 'harpooneers', 'magnitude', 'NANTUCKET', 'stranded', 'Greenland', 'Nantucket', 'whalemen', 'harpooned', 'harpooneer', 'boundless', 'landsmen', 'magnetic', 'infallibly', 'Commodore', 'forecastle', 'breathes', 'portentous', 'lengthwise', 'perpendicular', 'harpoons', 'shipmates', 'shipmate', 'reminiscences', 'Bulkington', 'whaleman', 'cannibals', 'tattooed', 'tomahawk', 'Queequeg', 'trowsers', 'contrasting', 'spermaceti', 'tapering', 'sanctity', 'larboard', 'starboard', 'pregnant', 'hoisting', 'descends', 'Senators', 'identity', 'undulating', 'Nantucketers', 'assaults', 'Nantucketer', 'helmsman', 'windward', 'obliquely', 'reminiscence', 'levelled', 'whalebone', 'profoundest', 'Starbuck', 'Meantime', 'invested', 'archipelagoes', 'latitudes', 'circumference', 'perchance', 'leviathans', 'Tashtego', 'rounding', 'corporeal', 'tambourine', 'taffrail', 'particle', 'popularly', 'loftiest', 'steersman', 'mainmast', 'binnacle', 'Scoresby', 'naturalists', 'laborers', 'Porpoise', 'vigilance', 'Hercules', 'blending', 'flitting', 'inscrutable', 'specific', 'measureless', 'methinks', 'volition', 'Forthwith', 'embattled', 'currents', 'limitless', 'appalling', 'soundings', 'substances', 'Fedallah', 'gunwales', 'fathomless', 'Sebastian', 'Steelkilt', 'Canallers', 'convulsive', 'freighted', 'unctuous', 'impalpable', 'Heidelburgh', 'vertebrae', 'aspirations', 'individuals', 'expanding', 'ambergris', 'doubloon', 'skeletons', 'blacksmith', 'Carpenter', 'blissful', 'Omnipotent', 'empyreal', 'Ethereal', 'Cherubim', 'Celestial', 'resistless', 'ambrosial', 'Wandering', 'inferiour', 'Illustrious', 'wonderous', 'angelick', 'illustrious', 'impassive', 'Messenger', 'Thoughts', 'pastoral', 'certaine', 'Countrymen', 'Capitoll', 'Calphurnia', 'himselfe', 'Flourish', 'generall', 'Titinius', 'themselues', 'seuerall', 'dreadfull', 'Metellus', 'Trebonius', 'Ligarius', 'wisedome', 'Instrument', 'businesse', 'Funerall', 'Octauius', 'Ambitious', 'Iudgement', 'Businesse', 'Souldier', 'Lucillius', 'Pindarus', 'Villaine', 'betweene', 'Attendants', 'Volumnius', 'Barnardo', 'goodnight', 'Marcellus', 'Denmarke', 'Fortinbras', 'Gertrude', 'Polonius', 'madnesse', 'Guildensterne', 'Rosincrance', 'Highnesse', 'Maiestie', 'Madnesse', 'Malcolme', 'Macduffe', 'Dunsinane', 'eidolons', 'universes', 'yearning', 'Mannahatta', 'California', 'Libertad', 'determin', 'Colorado', 'traveler', 'steamers', 'Manhattan', 'pennants', 'Brooklyn', 'Pioneers', 'Unfolded', 'trumpeter']\n"
     ]
    }
   ],
   "source": [
    "import nltk\n",
    "from nltk.corpus import gutenberg\n",
    "from collections import Counter\n",
    "all_words = gutenberg.words(gutenberg.fileids())\n",
    "items = Counter(all_words).items()\n",
    "result = [item for (item, count) in items if len(item) > 7 and count > 7]\n",
    "print(result)"
   ]
  },
  {
   "cell_type": "markdown",
   "metadata": {
    "slideshow": {
     "slide_type": "slide"
    }
   },
   "source": [
    "### Count Bigrams\n",
    "A bigram is a sequence of two words."
   ]
  },
  {
   "cell_type": "code",
   "execution_count": 34,
   "metadata": {},
   "outputs": [
    {
     "data": {
      "text/plain": [
       "[(1, 2), (2, 3), (3, 4), (4, 5), (5, 6)]"
      ]
     },
     "execution_count": 34,
     "metadata": {},
     "output_type": "execute_result"
    }
   ],
   "source": [
    "list(nltk.bigrams([1,2,3,4,5,6]))"
   ]
  },
  {
   "cell_type": "code",
   "execution_count": 35,
   "metadata": {},
   "outputs": [
    {
     "data": {
      "text/plain": [
       "[('[', 'Emma'),\n",
       " ('Emma', 'by'),\n",
       " ('by', 'Jane'),\n",
       " ('Jane', 'Austen'),\n",
       " ('Austen', '1816')]"
      ]
     },
     "execution_count": 35,
     "metadata": {},
     "output_type": "execute_result"
    }
   ],
   "source": [
    "list(nltk.bigrams(emma))[:5]"
   ]
  },
  {
   "cell_type": "markdown",
   "metadata": {},
   "source": [
    "* A bigram is an ngram where n is 2\n",
    "* A trigram is an ngram where n is 3"
   ]
  },
  {
   "cell_type": "code",
   "execution_count": 36,
   "metadata": {
    "collapsed": true
   },
   "outputs": [
    {
     "data": {
      "text/plain": [
       "[('[', 'Emma', 'by', 'Jane'),\n",
       " ('Emma', 'by', 'Jane', 'Austen'),\n",
       " ('by', 'Jane', 'Austen', '1816'),\n",
       " ('Jane', 'Austen', '1816', ']'),\n",
       " ('Austen', '1816', ']', 'VOLUME')]"
      ]
     },
     "execution_count": 36,
     "metadata": {},
     "output_type": "execute_result"
    }
   ],
   "source": [
    "list(nltk.ngrams(emma,4))[:5]"
   ]
  },
  {
   "cell_type": "markdown",
   "metadata": {
    "slideshow": {
     "slide_type": "slide"
    }
   },
   "source": [
    "### Exercises\n",
    "1. Find the most frequent bigram in Austin's Emma.\n",
    "2. Find the most frequent bigram that begins with 'the'."
   ]
  },
  {
   "cell_type": "code",
   "execution_count": 46,
   "metadata": {},
   "outputs": [
    {
     "name": "stdout",
     "output_type": "stream",
     "text": [
      "(',', 'and')\n"
     ]
    }
   ],
   "source": [
    "# Find the most frequent bigram in Austin's Emma.\n",
    "import nltk\n",
    "from nltk.corpus import gutenberg\n",
    "from collections import Counter\n",
    "emma = gutenberg.words('austen-emma.txt')\n",
    "phrase = Counter(list(nltk.bigrams(emma))).most_common(1)\n",
    "for (x, y) in phrase:\n",
    "    print(x)"
   ]
  },
  {
   "cell_type": "code",
   "execution_count": null,
   "metadata": {},
   "outputs": [],
   "source": [
    "# Find the most frequent bigram that begins with 'the'.\n"
   ]
  },
  {
   "cell_type": "markdown",
   "metadata": {
    "slideshow": {
     "slide_type": "slide"
    }
   },
   "source": [
    "# Text Processing in Python"
   ]
  },
  {
   "cell_type": "markdown",
   "metadata": {},
   "source": [
    "### Sorting\n",
    "* The function `sorted()` returns a sorted copy.\n",
    "* Sequences can be sorted in place with the `sort()` method.\n",
    "* Python 3 does not support sorting of lists with mixed contents."
   ]
  },
  {
   "cell_type": "code",
   "execution_count": 37,
   "metadata": {
    "collapsed": true
   },
   "outputs": [
    {
     "data": {
      "text/plain": [
       "[1, 2, 5, 9, 11]"
      ]
     },
     "execution_count": 37,
     "metadata": {},
     "output_type": "execute_result"
    }
   ],
   "source": [
    "foo = [2,5,9,1,11]\n",
    "sorted(foo)"
   ]
  },
  {
   "cell_type": "code",
   "execution_count": 38,
   "metadata": {
    "collapsed": true
   },
   "outputs": [
    {
     "data": {
      "text/plain": [
       "[2, 5, 9, 1, 11]"
      ]
     },
     "execution_count": 38,
     "metadata": {},
     "output_type": "execute_result"
    }
   ],
   "source": [
    "foo"
   ]
  },
  {
   "cell_type": "code",
   "execution_count": 39,
   "metadata": {
    "collapsed": true
   },
   "outputs": [],
   "source": [
    "foo.sort()"
   ]
  },
  {
   "cell_type": "code",
   "execution_count": 40,
   "metadata": {
    "collapsed": true
   },
   "outputs": [
    {
     "data": {
      "text/plain": [
       "[1, 2, 5, 9, 11]"
      ]
     },
     "execution_count": 40,
     "metadata": {},
     "output_type": "execute_result"
    }
   ],
   "source": [
    "foo"
   ]
  },
  {
   "cell_type": "code",
   "execution_count": 41,
   "metadata": {
    "collapsed": true,
    "slideshow": {
     "slide_type": "subslide"
    }
   },
   "outputs": [
    {
     "ename": "TypeError",
     "evalue": "'<' not supported between instances of 'str' and 'int'",
     "output_type": "error",
     "traceback": [
      "\u001b[0;31m---------------------------------------------------------------------------\u001b[0m",
      "\u001b[0;31mTypeError\u001b[0m                                 Traceback (most recent call last)",
      "\u001b[0;32m<ipython-input-41-30e583885c1d>\u001b[0m in \u001b[0;36m<module>\u001b[0;34m\u001b[0m\n\u001b[1;32m      1\u001b[0m \u001b[0mfoo2\u001b[0m \u001b[0;34m=\u001b[0m \u001b[0;34m[\u001b[0m\u001b[0;36m2\u001b[0m\u001b[0;34m,\u001b[0m\u001b[0;36m5\u001b[0m\u001b[0;34m,\u001b[0m\u001b[0;36m6\u001b[0m\u001b[0;34m,\u001b[0m\u001b[0;36m1\u001b[0m\u001b[0;34m,\u001b[0m\u001b[0;34m'a'\u001b[0m\u001b[0;34m]\u001b[0m\u001b[0;34m\u001b[0m\u001b[0;34m\u001b[0m\u001b[0m\n\u001b[0;32m----> 2\u001b[0;31m \u001b[0msorted\u001b[0m\u001b[0;34m(\u001b[0m\u001b[0mfoo2\u001b[0m\u001b[0;34m)\u001b[0m\u001b[0;34m\u001b[0m\u001b[0;34m\u001b[0m\u001b[0m\n\u001b[0m",
      "\u001b[0;31mTypeError\u001b[0m: '<' not supported between instances of 'str' and 'int'"
     ]
    }
   ],
   "source": [
    "foo2 = [2,5,6,1,'a']\n",
    "sorted(foo2)"
   ]
  },
  {
   "cell_type": "markdown",
   "metadata": {
    "slideshow": {
     "slide_type": "slide"
    }
   },
   "source": [
    "### Sorting with a custom sorting criterion"
   ]
  },
  {
   "cell_type": "code",
   "execution_count": 42,
   "metadata": {
    "collapsed": true
   },
   "outputs": [],
   "source": [
    "l = ['a','abc','b','c','aa','bb','cc']"
   ]
  },
  {
   "cell_type": "code",
   "execution_count": 43,
   "metadata": {
    "collapsed": true
   },
   "outputs": [
    {
     "data": {
      "text/plain": [
       "['a', 'aa', 'abc', 'b', 'bb', 'c', 'cc']"
      ]
     },
     "execution_count": 43,
     "metadata": {},
     "output_type": "execute_result"
    }
   ],
   "source": [
    "sorted(l)"
   ]
  },
  {
   "cell_type": "code",
   "execution_count": 44,
   "metadata": {
    "collapsed": true
   },
   "outputs": [
    {
     "data": {
      "text/plain": [
       "['a', 'b', 'c', 'aa', 'bb', 'cc', 'abc']"
      ]
     },
     "execution_count": 44,
     "metadata": {},
     "output_type": "execute_result"
    }
   ],
   "source": [
    "sorted(l,key=len)"
   ]
  },
  {
   "cell_type": "code",
   "execution_count": 45,
   "metadata": {
    "collapsed": true
   },
   "outputs": [
    {
     "data": {
      "text/plain": [
       "['abc', 'aa', 'bb', 'cc', 'a', 'b', 'c']"
      ]
     },
     "execution_count": 45,
     "metadata": {},
     "output_type": "execute_result"
    }
   ],
   "source": [
    "sorted(l,key=len,reverse=True)"
   ]
  },
  {
   "cell_type": "code",
   "execution_count": 46,
   "metadata": {
    "collapsed": true
   },
   "outputs": [],
   "source": [
    "def my_len(x):\n",
    "    return -len(x)"
   ]
  },
  {
   "cell_type": "code",
   "execution_count": 47,
   "metadata": {
    "collapsed": true
   },
   "outputs": [
    {
     "data": {
      "text/plain": [
       "['abc', 'aa', 'bb', 'cc', 'a', 'b', 'c']"
      ]
     },
     "execution_count": 47,
     "metadata": {},
     "output_type": "execute_result"
    }
   ],
   "source": [
    "sorted(l,key=my_len)"
   ]
  },
  {
   "cell_type": "code",
   "execution_count": 48,
   "metadata": {
    "collapsed": true
   },
   "outputs": [
    {
     "data": {
      "text/plain": [
       "['abc', 'aa', 'bb', 'cc', 'a', 'b', 'c']"
      ]
     },
     "execution_count": 48,
     "metadata": {},
     "output_type": "execute_result"
    }
   ],
   "source": [
    "sorted(l,key = lambda x: -len(x))"
   ]
  },
  {
   "cell_type": "markdown",
   "metadata": {
    "slideshow": {
     "slide_type": "slide"
    }
   },
   "source": [
    "### Exercises\n",
    "You're given data of the following form:\n",
    "\n",
    "```python\n",
    "namedat = dict()\n",
    "namedat['mc'] = ('Madonna', 45)\n",
    "namedat['sc'] = ('Steve', 41)\n",
    "```\n",
    "\n",
    "1. How would you print a list ordered by name?\n",
    "2. How would you print a list ordered by age?"
   ]
  },
  {
   "cell_type": "markdown",
   "metadata": {
    "slideshow": {
     "slide_type": "slide"
    }
   },
   "source": [
    "### Strings in Python\n",
    "* String is a base type.\n",
    "* Strings are sequences and can use operations like lists or tuples."
   ]
  },
  {
   "cell_type": "code",
   "execution_count": 49,
   "metadata": {
    "collapsed": true
   },
   "outputs": [
    {
     "data": {
      "text/plain": [
       "8"
      ]
     },
     "execution_count": 49,
     "metadata": {},
     "output_type": "execute_result"
    }
   ],
   "source": [
    "foo = \"A string\"\n",
    "len(foo)"
   ]
  },
  {
   "cell_type": "code",
   "execution_count": 50,
   "metadata": {
    "collapsed": true
   },
   "outputs": [
    {
     "data": {
      "text/plain": [
       "'A'"
      ]
     },
     "execution_count": 50,
     "metadata": {},
     "output_type": "execute_result"
    }
   ],
   "source": [
    "foo[0]"
   ]
  },
  {
   "cell_type": "code",
   "execution_count": 51,
   "metadata": {
    "collapsed": true
   },
   "outputs": [
    {
     "data": {
      "text/plain": [
       "'A s'"
      ]
     },
     "execution_count": 51,
     "metadata": {},
     "output_type": "execute_result"
    }
   ],
   "source": [
    "foo[0:3]"
   ]
  },
  {
   "cell_type": "code",
   "execution_count": 52,
   "metadata": {
    "collapsed": true
   },
   "outputs": [],
   "source": [
    "multifoo = \"\"\"A multiline \n",
    "string\"\"\""
   ]
  },
  {
   "cell_type": "code",
   "execution_count": 53,
   "metadata": {
    "collapsed": true
   },
   "outputs": [
    {
     "data": {
      "text/plain": [
       "'A multiline \\nstring'"
      ]
     },
     "execution_count": 53,
     "metadata": {},
     "output_type": "execute_result"
    }
   ],
   "source": [
    "multifoo"
   ]
  },
  {
   "cell_type": "code",
   "execution_count": 54,
   "metadata": {
    "collapsed": true
   },
   "outputs": [
    {
     "data": {
      "text/plain": [
       "'My string'"
      ]
     },
     "execution_count": 54,
     "metadata": {},
     "output_type": "execute_result"
    }
   ],
   "source": [
    "\"my string\".capitalize()"
   ]
  },
  {
   "cell_type": "code",
   "execution_count": 55,
   "metadata": {
    "collapsed": true,
    "slideshow": {
     "slide_type": "subslide"
    }
   },
   "outputs": [
    {
     "ename": "NameError",
     "evalue": "name 'capitalize' is not defined",
     "output_type": "error",
     "traceback": [
      "\u001b[0;31m---------------------------------------------------------------------------\u001b[0m",
      "\u001b[0;31mNameError\u001b[0m                                 Traceback (most recent call last)",
      "\u001b[0;32m<ipython-input-55-858f66cc7b53>\u001b[0m in \u001b[0;36m<module>\u001b[0;34m\u001b[0m\n\u001b[0;32m----> 1\u001b[0;31m \u001b[0mcapitalize\u001b[0m\u001b[0;34m(\u001b[0m\u001b[0;34m\"my string\"\u001b[0m\u001b[0;34m)\u001b[0m\u001b[0;34m\u001b[0m\u001b[0;34m\u001b[0m\u001b[0m\n\u001b[0m",
      "\u001b[0;31mNameError\u001b[0m: name 'capitalize' is not defined"
     ]
    }
   ],
   "source": [
    "capitalize(\"my string\")"
   ]
  },
  {
   "cell_type": "code",
   "execution_count": 56,
   "metadata": {
    "collapsed": true
   },
   "outputs": [
    {
     "data": {
      "text/plain": [
       "'MY STRING'"
      ]
     },
     "execution_count": 56,
     "metadata": {},
     "output_type": "execute_result"
    }
   ],
   "source": [
    "\"my string\".upper()"
   ]
  },
  {
   "cell_type": "code",
   "execution_count": 57,
   "metadata": {
    "collapsed": true
   },
   "outputs": [
    {
     "data": {
      "text/plain": [
       "'my string'"
      ]
     },
     "execution_count": 57,
     "metadata": {},
     "output_type": "execute_result"
    }
   ],
   "source": [
    "\"My String\".lower()"
   ]
  },
  {
   "cell_type": "code",
   "execution_count": 58,
   "metadata": {
    "collapsed": true
   },
   "outputs": [
    {
     "data": {
      "text/plain": [
       "2"
      ]
     },
     "execution_count": 58,
     "metadata": {},
     "output_type": "execute_result"
    }
   ],
   "source": [
    "a = \"my string with my other text\"\n",
    "a.count(\"my\")"
   ]
  },
  {
   "cell_type": "code",
   "execution_count": 59,
   "metadata": {
    "collapsed": true
   },
   "outputs": [
    {
     "data": {
      "text/plain": [
       "10"
      ]
     },
     "execution_count": 59,
     "metadata": {},
     "output_type": "execute_result"
    }
   ],
   "source": [
    "a.find(\"with\")"
   ]
  },
  {
   "cell_type": "code",
   "execution_count": 60,
   "metadata": {
    "collapsed": true
   },
   "outputs": [
    {
     "data": {
      "text/plain": [
       "-1"
      ]
     },
     "execution_count": 60,
     "metadata": {},
     "output_type": "execute_result"
    }
   ],
   "source": [
    "a.find(\"nothing\")"
   ]
  },
  {
   "cell_type": "markdown",
   "metadata": {
    "slideshow": {
     "slide_type": "slide"
    }
   },
   "source": [
    "### Split\n",
    "* `split(sep)` is a central string operation.\n",
    "* It splits a string wherever `sep` occurs (blank space by default)"
   ]
  },
  {
   "cell_type": "code",
   "execution_count": 61,
   "metadata": {
    "collapsed": true
   },
   "outputs": [
    {
     "data": {
      "text/plain": [
       "['one', '::', 'two', '::', 'three']"
      ]
     },
     "execution_count": 61,
     "metadata": {},
     "output_type": "execute_result"
    }
   ],
   "source": [
    "foo = \"one :: two :: three\"\n",
    "foo.split()"
   ]
  },
  {
   "cell_type": "code",
   "execution_count": 62,
   "metadata": {
    "collapsed": true
   },
   "outputs": [
    {
     "data": {
      "text/plain": [
       "['one ', ' two ', ' three']"
      ]
     },
     "execution_count": 62,
     "metadata": {},
     "output_type": "execute_result"
    }
   ],
   "source": [
    "foo.split('::')"
   ]
  },
  {
   "cell_type": "code",
   "execution_count": 63,
   "metadata": {
    "collapsed": true
   },
   "outputs": [
    {
     "data": {
      "text/plain": [
       "['one', 'two', 'three']"
      ]
     },
     "execution_count": 63,
     "metadata": {},
     "output_type": "execute_result"
    }
   ],
   "source": [
    "foo.split(' :: ')"
   ]
  },
  {
   "cell_type": "code",
   "execution_count": 64,
   "metadata": {
    "collapsed": true
   },
   "outputs": [
    {
     "data": {
      "text/plain": [
       "['this', 'is', 'a', 'test']"
      ]
     },
     "execution_count": 64,
     "metadata": {},
     "output_type": "execute_result"
    }
   ],
   "source": [
    "\"this is a test\".split()"
   ]
  },
  {
   "cell_type": "markdown",
   "metadata": {
    "slideshow": {
     "slide_type": "slide"
    }
   },
   "source": [
    "### Join\n",
    "* Join is another useful function/method in the string module.\n",
    "* It takes a list and joins the elements using some delimiter.\n"
   ]
  },
  {
   "cell_type": "code",
   "execution_count": 65,
   "metadata": {
    "collapsed": true
   },
   "outputs": [
    {
     "name": "stdout",
     "output_type": "stream",
     "text": [
      "['this', 'is', 'some', 'text', 'to', 'analyse']\n",
      "['analyse', 'is', 'some', 'text', 'this', 'to']\n",
      "analyse, is, some, text, this, to\n"
     ]
    }
   ],
   "source": [
    "text=\"this is some text to analyse\"\n",
    "words=text.split()\n",
    "print(words)\n",
    "words.sort()\n",
    "print(words)\n",
    "print(\", \".join(words))"
   ]
  },
  {
   "cell_type": "markdown",
   "metadata": {
    "slideshow": {
     "slide_type": "slide"
    }
   },
   "source": [
    "### Replace"
   ]
  },
  {
   "cell_type": "code",
   "execution_count": 66,
   "metadata": {
    "collapsed": true
   },
   "outputs": [],
   "source": [
    "def censor(text):\n",
    "   'replace bad words in a text with XXX'\n",
    "   badwords = ['poo', 'bottom']\n",
    "   for b in badwords:\n",
    "      text = text.replace(b, 'XXX')\n",
    "   return text"
   ]
  },
  {
   "cell_type": "code",
   "execution_count": 67,
   "metadata": {
    "collapsed": true
   },
   "outputs": [
    {
     "data": {
      "text/plain": [
       "'this is all XXX and more XXX'"
      ]
     },
     "execution_count": 67,
     "metadata": {},
     "output_type": "execute_result"
    }
   ],
   "source": [
    "censor(\"this is all poo and more poo\")"
   ]
  },
  {
   "cell_type": "markdown",
   "metadata": {
    "slideshow": {
     "slide_type": "slide"
    }
   },
   "source": [
    "### Text Preprocessing with NLTK\n",
    "#### Tokenisation"
   ]
  },
  {
   "cell_type": "code",
   "execution_count": 68,
   "metadata": {
    "collapsed": true
   },
   "outputs": [
    {
     "name": "stderr",
     "output_type": "stream",
     "text": [
      "[nltk_data] Downloading package punkt to /home/diego/nltk_data...\n",
      "[nltk_data]   Package punkt is already up-to-date!\n"
     ]
    },
    {
     "data": {
      "text/plain": [
       "['This is a sentence.', 'This is another sentence.']"
      ]
     },
     "execution_count": 68,
     "metadata": {},
     "output_type": "execute_result"
    }
   ],
   "source": [
    "import nltk\n",
    "nltk.download(\"punkt\")\n",
    "text = \"This is a sentence. This is another sentence.\"\n",
    "nltk.sent_tokenize(text)"
   ]
  },
  {
   "cell_type": "code",
   "execution_count": 69,
   "metadata": {
    "collapsed": true
   },
   "outputs": [
    {
     "name": "stdout",
     "output_type": "stream",
     "text": [
      "This\n",
      "is\n",
      "a\n",
      "sentence\n",
      ".\n",
      "\n",
      "This\n",
      "is\n",
      "another\n",
      "sentence\n",
      ".\n",
      "\n"
     ]
    }
   ],
   "source": [
    "for s in nltk.sent_tokenize(text):\n",
    "    for w in nltk.word_tokenize(s):\n",
    "        print(w)\n",
    "    print()"
   ]
  },
  {
   "cell_type": "markdown",
   "metadata": {
    "slideshow": {
     "slide_type": "slide"
    }
   },
   "source": [
    "#### Part of speech tagging\n",
    "\n",
    "* Often it is useful to know whether a word is a noun, or an adjective, etc. These are called **parts of speech**.\n",
    "* NLTK has a part of speech tagger that tags a list of tokens.\n",
    "* The default list of parts of speech is fairly detailed but we can set a simplified version (called `universal` by NLTK).\n",
    "\n",
    "List of universal tagsets:\n",
    "\n",
    "| Tag | Meaning | English Examples |\n",
    "| --- | --- | --- |\n",
    "| `ADJ` | adjective | new, good, high, special, big, local |\n",
    "| `ADP` | adposition | on, of, at, with, by, into, under |\n",
    "| `ADV` | adverb | really, already, still, early, now |\n",
    "| `CONJ` | conjunction | and, or, but, if, while, although |\n",
    "| `DET` | determiner, article | the, a, some, most, every, no, which |\n",
    "| `NOUN` | noun | year, home, costs, time, Africa |\n",
    "| `NUM` | numeral | twenty-four, fourth, 1991, 14:24 |\n",
    "| `PRT` | particle | at, on, out, over per, that, up, with |\n",
    "| `PRON` | pronoun | he, their, her, its, my, I, us |\n",
    "| `VERB` | verb | is, say, told, given, playing, would |\n",
    "| `.` | punctuation marks | . , ; ! |\n",
    "| `X` | other | ersatz, esprit, dunno, gr8, univeristy |\n"
   ]
  },
  {
   "cell_type": "markdown",
   "metadata": {
    "slideshow": {
     "slide_type": "slide"
    }
   },
   "source": [
    "![WordPosPipeline](WordPosPipeline.png)"
   ]
  },
  {
   "cell_type": "code",
   "execution_count": 70,
   "metadata": {
    "collapsed": true
   },
   "outputs": [
    {
     "name": "stderr",
     "output_type": "stream",
     "text": [
      "[nltk_data] Downloading package averaged_perceptron_tagger to\n",
      "[nltk_data]     /home/diego/nltk_data...\n",
      "[nltk_data]   Package averaged_perceptron_tagger is already up-to-\n",
      "[nltk_data]       date!\n"
     ]
    },
    {
     "data": {
      "text/plain": [
       "[('this', 'DT'), ('is', 'VBZ'), ('a', 'DT'), ('test', 'NN')]"
      ]
     },
     "execution_count": 70,
     "metadata": {},
     "output_type": "execute_result"
    }
   ],
   "source": [
    "nltk.download(\"averaged_perceptron_tagger\")\n",
    "nltk.pos_tag([\"this\", \"is\", \"a\", \"test\"])"
   ]
  },
  {
   "cell_type": "code",
   "execution_count": 71,
   "metadata": {
    "collapsed": true
   },
   "outputs": [
    {
     "name": "stderr",
     "output_type": "stream",
     "text": [
      "[nltk_data] Downloading package universal_tagset to\n",
      "[nltk_data]     /home/diego/nltk_data...\n",
      "[nltk_data]   Unzipping taggers/universal_tagset.zip.\n"
     ]
    },
    {
     "data": {
      "text/plain": [
       "[('this', 'DET'), ('is', 'VERB'), ('a', 'DET'), ('test', 'NOUN')]"
      ]
     },
     "execution_count": 71,
     "metadata": {},
     "output_type": "execute_result"
    }
   ],
   "source": [
    "nltk.download(\"universal_tagset\")\n",
    "nltk.pos_tag([\"this\", \"is\", \"a\", \"test\"], tagset=\"universal\")"
   ]
  },
  {
   "cell_type": "code",
   "execution_count": 72,
   "metadata": {
    "collapsed": true
   },
   "outputs": [
    {
     "data": {
      "text/plain": [
       "[('this', 'DET'), ('is', 'VERB'), ('a', 'DET'), ('test', 'NOUN')]"
      ]
     },
     "execution_count": 72,
     "metadata": {},
     "output_type": "execute_result"
    }
   ],
   "source": [
    "nltk.pos_tag(nltk.word_tokenize(\"this is a test\"), tagset=\"universal\")"
   ]
  },
  {
   "cell_type": "markdown",
   "metadata": {
    "slideshow": {
     "slide_type": "slide"
    }
   },
   "source": [
    "![SentPosPipeline](SentPosPipeline.png)"
   ]
  },
  {
   "cell_type": "code",
   "execution_count": 73,
   "metadata": {
    "collapsed": true
   },
   "outputs": [
    {
     "data": {
      "text/plain": [
       "[['This', 'is', 'a', 'sentence', '.'],\n",
       " ['This', 'is', 'another', 'sentence', '.']]"
      ]
     },
     "execution_count": 73,
     "metadata": {},
     "output_type": "execute_result"
    }
   ],
   "source": [
    "text = \"This is a sentence. This is another sentence.\"\n",
    "text_sent_tokens = [nltk.word_tokenize(s) for s in nltk.sent_tokenize(text)]\n",
    "text_sent_tokens"
   ]
  },
  {
   "cell_type": "code",
   "execution_count": 74,
   "metadata": {
    "collapsed": true
   },
   "outputs": [
    {
     "data": {
      "text/plain": [
       "[[('This', 'DET'),\n",
       "  ('is', 'VERB'),\n",
       "  ('a', 'DET'),\n",
       "  ('sentence', 'NOUN'),\n",
       "  ('.', '.')],\n",
       " [('This', 'DET'),\n",
       "  ('is', 'VERB'),\n",
       "  ('another', 'DET'),\n",
       "  ('sentence', 'NOUN'),\n",
       "  ('.', '.')]]"
      ]
     },
     "execution_count": 74,
     "metadata": {},
     "output_type": "execute_result"
    }
   ],
   "source": [
    "nltk.pos_tag_sents(text_sent_tokens, tagset=\"universal\")"
   ]
  },
  {
   "cell_type": "markdown",
   "metadata": {
    "slideshow": {
     "slide_type": "subslide"
    }
   },
   "source": [
    "Below is an implementation that has the same behaviour as `pos_tag_sents`. Hopefully this can help you understand how it works:"
   ]
  },
  {
   "cell_type": "code",
   "execution_count": 75,
   "metadata": {
    "collapsed": true
   },
   "outputs": [],
   "source": [
    "def my_pos_tag_sents(text_sent_tokens, tagset=\"universal\"):\n",
    "    return [nltk.pos_tag(s, tagset=tagset) for s in text_sent_tokens]"
   ]
  },
  {
   "cell_type": "code",
   "execution_count": 76,
   "metadata": {
    "collapsed": true
   },
   "outputs": [
    {
     "data": {
      "text/plain": [
       "[[('This', 'DET'),\n",
       "  ('is', 'VERB'),\n",
       "  ('a', 'DET'),\n",
       "  ('sentence', 'NOUN'),\n",
       "  ('.', '.')],\n",
       " [('This', 'DET'),\n",
       "  ('is', 'VERB'),\n",
       "  ('another', 'DET'),\n",
       "  ('sentence', 'NOUN'),\n",
       "  ('.', '.')]]"
      ]
     },
     "execution_count": 76,
     "metadata": {},
     "output_type": "execute_result"
    }
   ],
   "source": [
    "my_pos_tag_sents(text_sent_tokens, tagset=\"universal\")"
   ]
  },
  {
   "cell_type": "markdown",
   "metadata": {
    "slideshow": {
     "slide_type": "slide"
    }
   },
   "source": [
    "#### Stemming\n",
    "\n",
    "* Often it is useful to remove information such as verb form, or the difference between singular and plural.\n",
    "* NLTK offers stemming, which removes suffixes.\n",
    "    * The Porter stemmer is a popular stemmer.\n",
    "* The remaining stem is not a word but can be used, for example, by search engines (we'll see more of this in another lecture)."
   ]
  },
  {
   "cell_type": "code",
   "execution_count": 77,
   "metadata": {
    "collapsed": true
   },
   "outputs": [],
   "source": [
    "s = nltk.PorterStemmer()"
   ]
  },
  {
   "cell_type": "code",
   "execution_count": 78,
   "metadata": {
    "collapsed": true
   },
   "outputs": [
    {
     "data": {
      "text/plain": [
       "'book'"
      ]
     },
     "execution_count": 78,
     "metadata": {},
     "output_type": "execute_result"
    }
   ],
   "source": [
    "s.stem(\"books\")"
   ]
  },
  {
   "cell_type": "code",
   "execution_count": 79,
   "metadata": {
    "collapsed": true
   },
   "outputs": [
    {
     "data": {
      "text/plain": [
       "'run'"
      ]
     },
     "execution_count": 79,
     "metadata": {},
     "output_type": "execute_result"
    }
   ],
   "source": [
    "s.stem(\"running\")"
   ]
  },
  {
   "cell_type": "code",
   "execution_count": 80,
   "metadata": {
    "collapsed": true
   },
   "outputs": [
    {
     "data": {
      "text/plain": [
       "'run'"
      ]
     },
     "execution_count": 80,
     "metadata": {},
     "output_type": "execute_result"
    }
   ],
   "source": [
    "s.stem(\"run\")"
   ]
  },
  {
   "cell_type": "code",
   "execution_count": 81,
   "metadata": {
    "collapsed": true
   },
   "outputs": [
    {
     "data": {
      "text/plain": [
       "'goe'"
      ]
     },
     "execution_count": 81,
     "metadata": {},
     "output_type": "execute_result"
    }
   ],
   "source": [
    "s.stem(\"goes\")"
   ]
  },
  {
   "cell_type": "code",
   "execution_count": 82,
   "metadata": {
    "collapsed": true
   },
   "outputs": [
    {
     "data": {
      "text/plain": [
       "['I', \"'m\", 'run', 'and', 'he', 'goe']"
      ]
     },
     "execution_count": 82,
     "metadata": {},
     "output_type": "execute_result"
    }
   ],
   "source": [
    "[s.stem(w) for w in nltk.word_tokenize(\"I'm running and he goes\")]"
   ]
  },
  {
   "cell_type": "markdown",
   "metadata": {
    "slideshow": {
     "slide_type": "slide"
    }
   },
   "source": [
    "### Exercises\n",
    "1.  What is the sentence with the largest number of tokens\n",
    "    in Austen's \"Emma\"?\n",
    "2. What is the most frequent part of speech in Austen's \"Emma\"?\n",
    "3. What is the number of distinct stems in Austen's \"Emma\"?\n",
    "4. What is the most ambiguous stem in Austen's \"Emma\"?\n",
    "    (meaning, which stem in Austen's \"Emma\" maps to the\n",
    "    largest number of distinct tokens?)"
   ]
  },
  {
   "cell_type": "code",
   "execution_count": null,
   "metadata": {
    "collapsed": true
   },
   "outputs": [],
   "source": []
  }
 ],
 "metadata": {
  "anaconda-cloud": {},
  "celltoolbar": "Slideshow",
  "kernelspec": {
   "display_name": "Python 3",
   "language": "python",
   "name": "python3"
  },
  "language_info": {
   "codemirror_mode": {
    "name": "ipython",
    "version": 3
   },
   "file_extension": ".py",
   "mimetype": "text/x-python",
   "name": "python",
   "nbconvert_exporter": "python",
   "pygments_lexer": "ipython3",
   "version": "3.9.1"
  }
 },
 "nbformat": 4,
 "nbformat_minor": 2
}
