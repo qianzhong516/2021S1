{
 "cells": [
  {
   "cell_type": "markdown",
   "metadata": {},
   "source": [
    "# Text Classification: Name Gender\n",
    "\n",
    "Here is a partition of the name gender data into training, dev-test, and test data as shown in the lectures:"
   ]
  },
  {
   "cell_type": "code",
   "execution_count": 6,
   "metadata": {},
   "outputs": [
    {
     "name": "stderr",
     "output_type": "stream",
     "text": [
      "[nltk_data] Downloading package names to\n",
      "[nltk_data]     C:\\Users\\zhong\\AppData\\Roaming\\nltk_data...\n",
      "[nltk_data]   Package names is already up-to-date!\n"
     ]
    }
   ],
   "source": [
    "import nltk\n",
    "nltk.download('names')\n",
    "from nltk.corpus import names\n",
    "m = names.words('male.txt')\n",
    "f = names.words('female.txt')"
   ]
  },
  {
   "cell_type": "code",
   "execution_count": 7,
   "metadata": {},
   "outputs": [],
   "source": [
    "import random\n",
    "random.seed(1234) # Set the random seed to allow replicability\n",
    "names = ([(name, 'male') for name in m] +\n",
    "         [(name, 'female') for name in f])\n",
    "random.shuffle(names)\n",
    "train_names = names[1000:]\n",
    "devtest_names = names[500:1000]\n",
    "test_names = names[:500]"
   ]
  },
  {
   "cell_type": "markdown",
   "metadata": {},
   "source": [
    "And here is one of the classifiers given in the lectures."
   ]
  },
  {
   "cell_type": "code",
   "execution_count": 20,
   "metadata": {},
   "outputs": [
    {
     "name": "stdout",
     "output_type": "stream",
     "text": [
      "0.7926267281105991\n",
      "0.77\n"
     ]
    }
   ],
   "source": [
    "def gender_features2(word):\n",
    "    return {'suffix1': word[-1:],\n",
    "            'suffix2': word[-2:]}\n",
    "train_set2 = [(gender_features2(n), g) for n, g in train_names]\n",
    "devtest_set2 = [(gender_features2(n), g) for n, g in devtest_names]\n",
    "classifier2 = nltk.NaiveBayesClassifier.train(train_set2)\n",
    "print(nltk.classify.accuracy(classifier2, train_set2))\n",
    "print(nltk.classify.accuracy(classifier2, devtest_set2))"
   ]
  },
  {
   "cell_type": "markdown",
   "metadata": {},
   "source": [
    "### Exercise: Using more information\n",
    "Define a new function `gender_features5` that takes, as features, any suffixes of size 1, 2, 3, 4, and 5. Examine the accuracy results. What can you conclude from this new classifier?"
   ]
  },
  {
   "cell_type": "code",
   "execution_count": 19,
   "metadata": {},
   "outputs": [
    {
     "name": "stdout",
     "output_type": "stream",
     "text": [
      "0.9003456221198156\n",
      "0.802\n"
     ]
    }
   ],
   "source": [
    "def gender_features5(word):\n",
    "    return {\n",
    "            'suffix1': word[-1],\n",
    "            'suffix2': word[-2:],\n",
    "            'suffix3': word[-3:],\n",
    "            'suffix4': word[-4:],\n",
    "            'suffix5': word[-5:]        \n",
    "           }\n",
    "\n",
    "train_set5 = [(gender_features5(n), g) for n,g in train_names]\n",
    "devtest_set5 = [(gender_features5(n), g) for n,g in devtest_names]\n",
    "classifier5 = nltk.NaiveBayesClassifier.train(train_set5)\n",
    "\n",
    "print(nltk.classify.accuracy(classifier5, train_set5))\n",
    "print(nltk.classify.accuracy(classifier5, devtest_set5))"
   ]
  },
  {
   "cell_type": "markdown",
   "metadata": {},
   "source": [
    "The performance of training data is much better than the devtest, therefore the training data is over-fitting."
   ]
  },
  {
   "cell_type": "markdown",
   "metadata": {},
   "source": [
    "### Exercise: Plot the impact of the training size\n",
    "\n",
    "The following code plots the classifier accuracy on the training and dev-test set as we increase the training size. Examine the plot and answer the following questions:\n",
    "\n",
    "1. From what amount of training data you would judge that the system stops over-fitting?\n",
    "2. From what amount of training data would you say that there is no need to add more training data?"
   ]
  },
  {
   "cell_type": "code",
   "execution_count": 37,
   "metadata": {},
   "outputs": [],
   "source": [
    "train_accuracy2 = []\n",
    "devtest_accuracy2 = []\n",
    "nsamples = range(10, 500, 5)\n",
    "for n in nsamples:\n",
    "    classifier2 = nltk.NaiveBayesClassifier.train(train_set2[:n])\n",
    "    train_accuracy2.append(nltk.classify.accuracy(classifier2, train_set2[:n]))\n",
    "    devtest_accuracy2.append(nltk.classify.accuracy(classifier2, devtest_set2))"
   ]
  },
  {
   "cell_type": "code",
   "execution_count": 38,
   "metadata": {},
   "outputs": [
    {
     "data": {
      "text/plain": [
       "<matplotlib.legend.Legend at 0x1fac0706b20>"
      ]
     },
     "execution_count": 38,
     "metadata": {},
     "output_type": "execute_result"
    },
    {
     "data": {
      "image/png": "[encoded data removed]",
      "text/plain": [
       "<Figure size 432x288 with 1 Axes>"
      ]
     },
     "metadata": {
      "needs_background": "light"
     },
     "output_type": "display_data"
    }
   ],
   "source": [
    "%matplotlib inline\n",
    "from matplotlib import pyplot as plt\n",
    "plt.plot(nsamples, train_accuracy2, label='Train')\n",
    "plt.plot(nsamples, devtest_accuracy2, label='Devtest')\n",
    "plt.xlabel('Training size')\n",
    "plt.ylabel('Accuracy')\n",
    "plt.title('Classifier 2')\n",
    "plt.legend()"
   ]
  },
  {
   "cell_type": "markdown",
   "metadata": {},
   "source": [
    "1. Over-fitting remains when there are 500 sample data.\n",
    "2. When there are around 400 training data, there is no need to add more training data. The reason is that's the peak of accuracy of devtest data. After that, the devtest data accuracy keeps declining, and the over-fitting increases again."
   ]
  },
  {
   "cell_type": "markdown",
   "metadata": {},
   "source": []
  },
  {
   "cell_type": "markdown",
   "metadata": {},
   "source": [
    "### Exercise: Repeat the analysis using sk-learn\n",
    "\n",
    "The lectures show how to use sklearn to implement the name classifier. Replicate the work in this workshop and try to answer the same questions as above.\n",
    "\n",
    "1. Is it better to use the last two characters, or the last 5 characters?\n",
    "2. From what amount of training data you would judge that the system stops overfitting?\n",
    "3. From what amount of training data would you say that there is no need to add more training data?\n"
   ]
  },
  {
   "cell_type": "code",
   "execution_count": 104,
   "metadata": {
    "scrolled": true
   },
   "outputs": [
    {
     "name": "stdout",
     "output_type": "stream",
     "text": [
      "devtest:  0.752 train:  0.7680011520737328\n",
      "devtest:  0.67 train:  0.7066532258064516\n"
     ]
    }
   ],
   "source": [
    "from sklearn.naive_bayes import MultinomialNB\n",
    "from sklearn.metrics import accuracy_score\n",
    "\n",
    "def one_hot_character(c):\n",
    "    alphabet = 'abcdefghijklmnopqrstuvwxyz'\n",
    "    result = [0]*(len(alphabet)+1)\n",
    "    i = alphabet.find(c.lower())\n",
    "    if i >= 0:\n",
    "        result[i] = 1\n",
    "    else:\n",
    "        result[len(alphabet)] = 1\n",
    "    return result\n",
    "\n",
    "def gender_features6(word):\n",
    "    \"\"\"generate features of the last two characters\"\"\"\n",
    "    if len(word) >=2:\n",
    "        last = one_hot_character(word[-1])\n",
    "        last_two = one_hot_character(word[-2])\n",
    "    return last + last_two\n",
    "\n",
    "\n",
    "def gender_features7(word):\n",
    "    \"\"\"generate features of the last five characters\"\"\"\n",
    "    alphabet = 'abcdefghijklmnopqrstuvwxyz'\n",
    "    all_chars = [[0]*(len(alphabet)+1)]*5\n",
    "    \n",
    "    if(len(word)>=5):\n",
    "        for x in range(-5, -1):\n",
    "            all_chars[x]=one_hot_character(word[x])  \n",
    "    \n",
    "    if(len(word)<5):\n",
    "        for x in range(-len(word), -1):\n",
    "            all_chars[x]=one_hot_character(word[x])\n",
    "    return [item for arr in all_chars for item in arr]\n",
    "\n",
    "def getAccuracy(train_set, devtest_set):\n",
    "    train_x, train_y = zip(*train_set)\n",
    "    classifier = MultinomialNB()\n",
    "    classifier.fit(train_x, train_y)\n",
    "    devtest_x, devtest_y = zip(*devtest_set)\n",
    "    devtest_predictions = classifier.predict(devtest_x)\n",
    "    train_predictions = classifier.predict(train_x)\n",
    "    print('devtest: ', accuracy_score(devtest_y, devtest_predictions), 'train: ', accuracy_score(train_y, train_predictions)) \n",
    "\n",
    "train_set = [(gender_features6(n), g) for n,g in train_names]\n",
    "devtest_set = [(gender_features6(n), g) for n,g in devtest_names]\n",
    "getAccuracy(train_set, devtest_set)\n",
    "\n",
    "train_set = [(gender_features7(n), g) for n,g in train_names]\n",
    "devtest_set = [(gender_features7(n), g) for n,g in devtest_names]\n",
    "getAccuracy(train_set, devtest_set)"
   ]
  },
  {
   "cell_type": "code",
   "execution_count": 111,
   "metadata": {},
   "outputs": [
    {
     "data": {
      "text/plain": [
       "<matplotlib.legend.Legend at 0x1fac08b3310>"
      ]
     },
     "execution_count": 111,
     "metadata": {},
     "output_type": "execute_result"
    },
    {
     "data": {
      "image/png": "[encoded data removed]",
      "text/plain": [
       "<Figure size 432x288 with 1 Axes>"
      ]
     },
     "metadata": {
      "needs_background": "light"
     },
     "output_type": "display_data"
    }
   ],
   "source": [
    "\"\"\" Last 2 characters feature \"\"\"\n",
    "train_set = [(gender_features6(n), g) for n,g in train_names]\n",
    "devtest_set = [(gender_features6(n), g) for n,g in devtest_names]\n",
    "\n",
    "train_accuracy = []\n",
    "devtest_accuracy = []\n",
    "nsamples = range(10, 2000, 100)\n",
    "for n in nsamples:\n",
    "    classifier = MultinomialNB()\n",
    "    train_x, train_y = zip(*train_set[:n])\n",
    "    classifier.fit(train_x, train_y)\n",
    "    devtest_x, devtest_y = zip(*devtest_set[:n])\n",
    "    devtest_predictions = classifier.predict(devtest_x)\n",
    "    train_predictions = classifier.predict(train_x)\n",
    "    devtest_accuracy.append(accuracy_score(devtest_y, devtest_predictions))\n",
    "    train_accuracy.append(accuracy_score(train_y, train_predictions))\n",
    "\n",
    "%matplotlib inline\n",
    "from matplotlib import pyplot as plt\n",
    "plt.plot(nsamples, train_accuracy, label=\"Train\")\n",
    "plt.plot(nsamples, devtest_accuracy, label=\"Devtest\")\n",
    "plt.xlabel('Training size')\n",
    "plt.ylabel('Accuracy')\n",
    "plt.title('sklearn classifier')\n",
    "plt.legend()"
   ]
  },
  {
   "cell_type": "code",
   "execution_count": 113,
   "metadata": {},
   "outputs": [
    {
     "data": {
      "text/plain": [
       "<matplotlib.legend.Legend at 0x1fac0cf2d00>"
      ]
     },
     "execution_count": 113,
     "metadata": {},
     "output_type": "execute_result"
    },
    {
     "data": {
      "image/png": "[encoded data removed]",
      "text/plain": [
       "<Figure size 432x288 with 1 Axes>"
      ]
     },
     "metadata": {
      "needs_background": "light"
     },
     "output_type": "display_data"
    }
   ],
   "source": [
    "\"\"\" Last 5 characters feature \"\"\"\n",
    "train_set = [(gender_features7(n), g) for n,g in train_names]\n",
    "devtest_set = [(gender_features7(n), g) for n,g in devtest_names]\n",
    "\n",
    "train_accuracy = []\n",
    "devtest_accuracy = []\n",
    "nsamples = range(10, 2000, 100)\n",
    "for n in nsamples:\n",
    "    classifier = MultinomialNB()\n",
    "    train_x, train_y = zip(*train_set[:n])\n",
    "    classifier.fit(train_x, train_y)\n",
    "    devtest_x, devtest_y = zip(*devtest_set[:n])\n",
    "    devtest_predictions = classifier.predict(devtest_x)\n",
    "    train_predictions = classifier.predict(train_x)\n",
    "    devtest_accuracy.append(accuracy_score(devtest_y, devtest_predictions))\n",
    "    train_accuracy.append(accuracy_score(train_y, train_predictions))\n",
    "\n",
    "%matplotlib inline\n",
    "from matplotlib import pyplot as plt\n",
    "plt.plot(nsamples, train_accuracy, label=\"Train\")\n",
    "plt.plot(nsamples, devtest_accuracy, label=\"Devtest\")\n",
    "plt.xlabel('Training size')\n",
    "plt.ylabel('Accuracy')\n",
    "plt.title('sklearn classifier')\n",
    "plt.legend()"
   ]
  }
 ],
 "metadata": {
  "kernelspec": {
   "display_name": "Python 3",
   "language": "python",
   "name": "python3"
  },
  "language_info": {
   "codemirror_mode": {
    "name": "ipython",
    "version": 3
   },
   "file_extension": ".py",
   "mimetype": "text/x-python",
   "name": "python",
   "nbconvert_exporter": "python",
   "pygments_lexer": "ipython3",
   "version": "3.9.1"
  }
 },
 "nbformat": 4,
 "nbformat_minor": 2
}
