{
 "cells": [
  {
   "cell_type": "markdown",
   "metadata": {},
   "source": [
    "# Demonstration\n",
    "\n",
    "The following demonstration will use the training set of the OHSUMED corpus. This training set was used in the Filtering Track of the 9th edition of the Text REtrieval Conference (TREC-9). We will use it for the information retrieval exercises of this workshop. Download [ohsumed.zip](ohsumed.zip) into the same folder as this notebook. The file is part of the git repository, so if you have cloned or downloaded the entire repository you will have the file in the right folder.\n",
    "\n",
    "The following code unzips the file:"
   ]
  },
  {
   "cell_type": "code",
   "execution_count": 1,
   "metadata": {},
   "outputs": [],
   "source": [
    "import zipfile\n",
    "zip_ref = zipfile.ZipFile('ohsumed.zip', 'r')\n",
    "zip_ref.extractall('.')\n",
    "zip_ref.close()"
   ]
  },
  {
   "cell_type": "markdown",
   "metadata": {},
   "source": [
    "To help you read the data, we are providing the file ohsumed.py (in the zip file above) that has a simple API to the data. When you import it at the Python prompt, it will provide the following variables:\n",
    "\n",
    "\n",
    "1. `index`: a dictionary with document IDs as keys, and document text as values.\n",
    "2. `questions`: a dictionary with query IDs as keys, and query text as values.\n",
    "3. `answers`: a dictionary with query IDs as keys, and a set with the IDs of known relevant documents as values. This information is used for evaluation.\n",
    "\n",
    "Below are some examples:"
   ]
  },
  {
   "cell_type": "code",
   "execution_count": 2,
   "metadata": {},
   "outputs": [
    {
     "name": "stdout",
     "output_type": "stream",
     "text": [
      "Reading OHSUMED data\n"
     ]
    }
   ],
   "source": [
    "import ohsumed"
   ]
  },
  {
   "cell_type": "code",
   "execution_count": 3,
   "metadata": {},
   "outputs": [
    {
     "data": {
      "text/plain": [
       "54710"
      ]
     },
     "execution_count": 3,
     "metadata": {},
     "output_type": "execute_result"
    }
   ],
   "source": [
    "len(ohsumed.index)"
   ]
  },
  {
   "cell_type": "code",
   "execution_count": 4,
   "metadata": {},
   "outputs": [
    {
     "data": {
      "text/plain": [
       "['87049087',\n",
       " '87049088',\n",
       " '87049089',\n",
       " '87049090',\n",
       " '87049091',\n",
       " '87049092',\n",
       " '87049093',\n",
       " '87049094',\n",
       " '87049095',\n",
       " '87049096']"
      ]
     },
     "execution_count": 4,
     "metadata": {},
     "output_type": "execute_result"
    }
   ],
   "source": [
    "sorted(list(ohsumed.index.keys()))[:10]"
   ]
  },
  {
   "cell_type": "code",
   "execution_count": 5,
   "metadata": {},
   "outputs": [
    {
     "data": {
      "text/plain": [
       "'Some patients converted from ventricular fibrillation to organized rhythms by defibrillation-trained ambulance technicians (EMT-Ds) will refibrillate before hospital arrival. The authors analyzed 271 cases of ventricular fibrillation managed by EMT-Ds working without paramedic back-up. Of 111 patients initially converted to organized rhythms, 19 (17%) refibrillated, 11 (58%) of whom were reconverted to perfusing rhythms, including nine of 11 (82%) who had spontaneous pulses prior to refibrillation. Among patients initially converted to organized rhythms, hospital admission rates were lower for patients who refibrillated than for patients who did not (53% versus 76%, P = NS), although discharge rates were virtually identical (37% and 35%, respectively). Scene-to-hospital transport times were not predictively associated with either the frequency of refibrillation or patient outcome. Defibrillation-trained EMTs can effectively manage refibrillation with additional shocks and are not at a significant disadvantage when paramedic back-up is not available.'"
      ]
     },
     "execution_count": 5,
     "metadata": {},
     "output_type": "execute_result"
    }
   ],
   "source": [
    "ohsumed.index['87049087']"
   ]
  },
  {
   "cell_type": "code",
   "execution_count": 6,
   "metadata": {},
   "outputs": [
    {
     "data": {
      "text/plain": [
       "63"
      ]
     },
     "execution_count": 6,
     "metadata": {},
     "output_type": "execute_result"
    }
   ],
   "source": [
    "len(ohsumed.questions)"
   ]
  },
  {
   "cell_type": "code",
   "execution_count": 7,
   "metadata": {},
   "outputs": [
    {
     "data": {
      "text/plain": [
       "['OHSU1',\n",
       " 'OHSU10',\n",
       " 'OHSU11',\n",
       " 'OHSU12',\n",
       " 'OHSU13',\n",
       " 'OHSU14',\n",
       " 'OHSU15',\n",
       " 'OHSU16',\n",
       " 'OHSU17',\n",
       " 'OHSU18']"
      ]
     },
     "execution_count": 7,
     "metadata": {},
     "output_type": "execute_result"
    }
   ],
   "source": [
    "sorted(list(ohsumed.questions.keys()))[:10]"
   ]
  },
  {
   "cell_type": "code",
   "execution_count": 8,
   "metadata": {},
   "outputs": [
    {
     "data": {
      "text/plain": [
       "'60 year old menopausal woman without hormone replacement therapy Are there adverse effects on lipids when progesterone is given with estrogen replacement therapy'"
      ]
     },
     "execution_count": 8,
     "metadata": {},
     "output_type": "execute_result"
    }
   ],
   "source": [
    "ohsumed.questions['OHSU1']"
   ]
  },
  {
   "cell_type": "code",
   "execution_count": 9,
   "metadata": {},
   "outputs": [
    {
     "data": {
      "text/plain": [
       "63"
      ]
     },
     "execution_count": 9,
     "metadata": {},
     "output_type": "execute_result"
    }
   ],
   "source": [
    "len(ohsumed.answers)"
   ]
  },
  {
   "cell_type": "code",
   "execution_count": 10,
   "metadata": {},
   "outputs": [
    {
     "data": {
      "text/plain": [
       "{'87097544', '87157536', '87157537', '87202778', '87316316', '87316326'}"
      ]
     },
     "execution_count": 10,
     "metadata": {},
     "output_type": "execute_result"
    }
   ],
   "source": [
    "ohsumed.answers['OHSU1']"
   ]
  },
  {
   "cell_type": "markdown",
   "metadata": {},
   "source": [
    "## Inverted index\n",
    "\n",
    "We are going to build an inverted index of the non-stop words with frequency higher than 5.\n",
    "\n",
    "The following code reads the files and creates a counter of all words in the corpus (including stop words). We will use NLTK's word tokeniser (read the beginning of [chapter 3 of NLTK's book](http://www.nltk.org/book/ch03.html#processing-raw-text)) to convert each document into a list of tokens. **Note that this code may take some time to run**."
   ]
  },
  {
   "cell_type": "code",
   "execution_count": 11,
   "metadata": {},
   "outputs": [
    {
     "name": "stderr",
     "output_type": "stream",
     "text": [
      "[nltk_data] Downloading package stopwords to /home/diego/nltk_data...\n",
      "[nltk_data]   Package stopwords is already up-to-date!\n",
      "[nltk_data] Downloading package punkt to /home/diego/nltk_data...\n",
      "[nltk_data]   Package punkt is already up-to-date!\n"
     ]
    }
   ],
   "source": [
    "import nltk, collections\n",
    "nltk.download('stopwords')\n",
    "nltk.download('punkt')\n",
    "stop = nltk.corpus.stopwords.words('english')\n",
    "wordcounter = collections.Counter([w.lower() for k in ohsumed.index\n",
    "                                             for s in nltk.sent_tokenize(ohsumed.index[k])\n",
    "                                             for w in nltk.word_tokenize(s)])"
   ]
  },
  {
   "cell_type": "code",
   "execution_count": 12,
   "metadata": {},
   "outputs": [
    {
     "data": {
      "text/plain": [
       "[('the', 305806),\n",
       " ('of', 271953),\n",
       " ('.', 254858),\n",
       " (',', 239656),\n",
       " ('and', 179604),\n",
       " ('in', 172449),\n",
       " ('to', 107431),\n",
       " (')', 96259),\n",
       " ('(', 95948),\n",
       " ('a', 95281)]"
      ]
     },
     "execution_count": 12,
     "metadata": {},
     "output_type": "execute_result"
    }
   ],
   "source": [
    "wordcounter.most_common(10)"
   ]
  },
  {
   "cell_type": "markdown",
   "metadata": {},
   "source": [
    "The following code creates the inverted index of all non-stop words with frequency higher than 5. **Note that this code  may take some time to run.**"
   ]
  },
  {
   "cell_type": "code",
   "execution_count": 13,
   "metadata": {},
   "outputs": [],
   "source": [
    "inverted = dict()\n",
    "for d in ohsumed.index:\n",
    "    for w in nltk.word_tokenize(ohsumed.index[d]):\n",
    "        w = w.lower()\n",
    "        if w in stop or wordcounter[w] <= 5:\n",
    "            continue\n",
    "        if w in inverted:\n",
    "            inverted[w].add(d)\n",
    "        else:\n",
    "            inverted[w] = set([d])"
   ]
  },
  {
   "cell_type": "code",
   "execution_count": 14,
   "metadata": {},
   "outputs": [
    {
     "data": {
      "text/plain": [
       "['accentuation',\n",
       " 'accept',\n",
       " 'acceptability',\n",
       " 'acceptable',\n",
       " 'acceptably',\n",
       " 'acceptance',\n",
       " 'accepted',\n",
       " 'accepting',\n",
       " 'acceptor',\n",
       " 'acceptors']"
      ]
     },
     "execution_count": 14,
     "metadata": {},
     "output_type": "execute_result"
    }
   ],
   "source": [
    "sorted(list(inverted.keys()))[3000:3010]"
   ]
  },
  {
   "cell_type": "code",
   "execution_count": 15,
   "metadata": {},
   "outputs": [
    {
     "data": {
      "text/plain": [
       "{'87057543',\n",
       " '87067994',\n",
       " '87073895',\n",
       " '87074134',\n",
       " '87114326',\n",
       " '87119697',\n",
       " '87121859',\n",
       " '87129900',\n",
       " '87149032',\n",
       " '87153185',\n",
       " '87193350',\n",
       " '87223625',\n",
       " '87223856',\n",
       " '87224779',\n",
       " '87232524',\n",
       " '87251875',\n",
       " '87273001',\n",
       " '87282178',\n",
       " '87295871',\n",
       " '87297008'}"
      ]
     },
     "execution_count": 15,
     "metadata": {},
     "output_type": "execute_result"
    }
   ],
   "source": [
    "inverted['acceptability']"
   ]
  },
  {
   "cell_type": "markdown",
   "metadata": {},
   "source": [
    "The following code saves the inverted index into a pickle file. This way we do not need to compute the inverted index again. Read [Python's documentation on pickle files](https://docs.python.org/3/library/pickle.html) for more detail. Note that the file we created is opened for writing in binary mode, following the advice of this [stackoverflow post about saving pickle files](http://stackoverflow.com/questions/13906623/using-pickle-dump-typeerror-must-be-str-not-bytes)."
   ]
  },
  {
   "cell_type": "code",
   "execution_count": 16,
   "metadata": {},
   "outputs": [],
   "source": [
    "import pickle\n",
    "with open('inverted.pickle', 'wb') as f:\n",
    "    pickle.dump(inverted,f)"
   ]
  },
  {
   "cell_type": "markdown",
   "metadata": {},
   "source": [
    "## Boolean retrieval"
   ]
  },
  {
   "cell_type": "markdown",
   "metadata": {},
   "source": [
    "The following code reads the pickle file and returns the list of documents that maches this Boolean query:\n",
    "\n",
    "1. (menopausal OR pregnant) AND woman AND NOT healthy"
   ]
  },
  {
   "cell_type": "code",
   "execution_count": 17,
   "metadata": {},
   "outputs": [],
   "source": [
    "import pickle\n",
    "with open('inverted.pickle', 'rb') as f:\n",
    "    inverted = pickle.load(f)"
   ]
  },
  {
   "cell_type": "code",
   "execution_count": 18,
   "metadata": {},
   "outputs": [
    {
     "data": {
      "text/plain": [
       "{'87060673',\n",
       " '87066899',\n",
       " '87097274',\n",
       " '87097518',\n",
       " '87099263',\n",
       " '87114245',\n",
       " '87117852',\n",
       " '87128881',\n",
       " '87134330',\n",
       " '87138205',\n",
       " '87153548',\n",
       " '87153568',\n",
       " '87169457',\n",
       " '87185313',\n",
       " '87226668',\n",
       " '87231479',\n",
       " '87235637',\n",
       " '87251241',\n",
       " '87252385',\n",
       " '87261426',\n",
       " '87281235',\n",
       " '87290433',\n",
       " '87296136',\n",
       " '87316210',\n",
       " '87316220',\n",
       " '87316328',\n",
       " '87324028',\n",
       " '87325497'}"
      ]
     },
     "execution_count": 18,
     "metadata": {},
     "output_type": "execute_result"
    }
   ],
   "source": [
    "(inverted['menopausal'] | inverted['pregnant']) & inverted['woman'] - inverted['healthy']"
   ]
  },
  {
   "cell_type": "markdown",
   "metadata": {},
   "source": [
    "Note that it took very little time to run the query. In general, creating the index may take some time but it is needed only once if the files do not change. Queries on the index are very fast."
   ]
  },
  {
   "cell_type": "markdown",
   "metadata": {},
   "source": [
    "# Your Turn\n",
    "\n",
    "## 1. Vector Retrieval\n",
    "\n",
    "### Exercise 1.1: Boolean Information Retrieval\n",
    "\n",
    "Create an inverted index of the **NLTK Gutenberg corpus** and save it into a file \"gutenbergindex.pickle\". To create this index there is no need to look for stop words or word frequencies, since the corpus is not that large. Simply use all the words. Use this index to find the documents that match the following Boolean queries:\n",
    "\n",
    "1. Brutus OR Caesar\n",
    "2. Brutus AND NOT Caesar\n",
    "3. (Brutus AND Caesar) OR Calpurnia\n"
   ]
  },
  {
   "cell_type": "code",
   "execution_count": 19,
   "metadata": {},
   "outputs": [
    {
     "name": "stderr",
     "output_type": "stream",
     "text": [
      "[nltk_data] Downloading package gutenberg to /home/diego/nltk_data...\n",
      "[nltk_data]   Package gutenberg is already up-to-date!\n",
      "Saving index into file gutenbergindex.pickle...\n",
      "Done\n"
     ]
    }
   ],
   "source": [
    "import pickle\n",
    "import nltk\n",
    "nltk.download(\"gutenberg\")\n",
    "# Write your code here\n",
    "\n",
    "gutenberg_index = dict()\n",
    "for d in nltk.corpus.gutenberg.fileids():\n",
    "    #print(d)\n",
    "    words = nltk.corpus.gutenberg.words(d)\n",
    "    for w in words:\n",
    "        if w in gutenberg_index:\n",
    "            gutenberg_index[w].add(d)\n",
    "        else:\n",
    "            gutenberg_index[w] = set([d])\n",
    "\n",
    "print(\"Saving index into file gutenbergindex.pickle...\")\n",
    "with open(\"gutenbergindex.pickle\", \"wb\") as f:\n",
    "    pickle.dump(gutenberg_index, f)\n",
    "print(\"Done\")"
   ]
  },
  {
   "cell_type": "code",
   "execution_count": 20,
   "metadata": {},
   "outputs": [],
   "source": [
    "with open('gutenbergindex.pickle','rb') as f:\n",
    "    gutenbergindex = pickle.load(f)"
   ]
  },
  {
   "cell_type": "code",
   "execution_count": 21,
   "metadata": {},
   "outputs": [
    {
     "data": {
      "text/plain": [
       "{'bible-kjv.txt',\n",
       " 'chesterton-brown.txt',\n",
       " 'chesterton-thursday.txt',\n",
       " 'edgeworth-parents.txt',\n",
       " 'melville-moby_dick.txt',\n",
       " 'shakespeare-caesar.txt',\n",
       " 'shakespeare-hamlet.txt',\n",
       " 'shakespeare-macbeth.txt'}"
      ]
     },
     "execution_count": 21,
     "metadata": {},
     "output_type": "execute_result"
    }
   ],
   "source": [
    "# Write your code for searching for Brutus OR Caesar\n",
    "gutenbergindex['Brutus'] | gutenbergindex['Caesar']"
   ]
  },
  {
   "cell_type": "code",
   "execution_count": 22,
   "metadata": {},
   "outputs": [
    {
     "data": {
      "text/plain": [
       "set()"
      ]
     },
     "execution_count": 22,
     "metadata": {},
     "output_type": "execute_result"
    }
   ],
   "source": [
    "# Write your code for searching for Brutus AND NOT Caesar\n",
    "gutenbergindex['Brutus'] - gutenbergindex['Caesar']"
   ]
  },
  {
   "cell_type": "code",
   "execution_count": 23,
   "metadata": {},
   "outputs": [
    {
     "ename": "KeyError",
     "evalue": "'Calpurnia'",
     "output_type": "error",
     "traceback": [
      "\u001b[0;31m---------------------------------------------------------------------------\u001b[0m",
      "\u001b[0;31mKeyError\u001b[0m                                  Traceback (most recent call last)",
      "\u001b[0;32m<ipython-input-23-db94334687ff>\u001b[0m in \u001b[0;36m<module>\u001b[0;34m\u001b[0m\n\u001b[1;32m      1\u001b[0m \u001b[0;31m# Write your code for searching for (Brutus AND Caesar) OR Calpurnia\u001b[0m\u001b[0;34m\u001b[0m\u001b[0;34m\u001b[0m\u001b[0;34m\u001b[0m\u001b[0m\n\u001b[0;32m----> 2\u001b[0;31m \u001b[0mgutenbergindex\u001b[0m\u001b[0;34m[\u001b[0m\u001b[0;34m'Brutus'\u001b[0m\u001b[0;34m]\u001b[0m \u001b[0;34m&\u001b[0m \u001b[0mgutenbergindex\u001b[0m\u001b[0;34m[\u001b[0m\u001b[0;34m'Caesar'\u001b[0m\u001b[0;34m]\u001b[0m \u001b[0;34m|\u001b[0m \u001b[0mgutenbergindex\u001b[0m\u001b[0;34m[\u001b[0m\u001b[0;34m'Calpurnia'\u001b[0m\u001b[0;34m]\u001b[0m\u001b[0;34m\u001b[0m\u001b[0;34m\u001b[0m\u001b[0m\n\u001b[0m",
      "\u001b[0;31mKeyError\u001b[0m: 'Calpurnia'"
     ]
    }
   ],
   "source": [
    "# Write your code for searching for (Brutus AND Caesar) OR Calpurnia\n",
    "gutenbergindex['Brutus'] & gutenbergindex['Caesar'] | gutenbergindex['Calpurnia']"
   ]
  },
  {
   "cell_type": "markdown",
   "metadata": {},
   "source": [
    "_It turns out that 'Calpurnia' is not indexed. Can you figure out what sort of error handling you could do to handle words that are not indexed?_"
   ]
  },
  {
   "cell_type": "markdown",
   "metadata": {},
   "source": [
    "### Exercise 1.2: tf.idf\n",
    "\n",
    "Using scikit-learn, compute the tf.idf of all words in the OHSUMED corpus. Use the English list of stop words, and leave all other settings to their default values. In particular, do not stem the words. Pickle the resulting tf.idf vectoriser into a file tfidf.pickle. **Note that in this exercise you should use the sklearn functions, not nltk. In particular, do not use NLTK's list of stop words or its tokeniser.**"
   ]
  },
  {
   "cell_type": "code",
   "execution_count": 24,
   "metadata": {},
   "outputs": [
    {
     "data": {
      "text/plain": [
       "TfidfVectorizer(stop_words='english')"
      ]
     },
     "execution_count": 24,
     "metadata": {},
     "output_type": "execute_result"
    }
   ],
   "source": [
    "# Write your code to compute the tf.idf\n",
    "from sklearn.feature_extraction.text import TfidfVectorizer\n",
    "tfidf = TfidfVectorizer(stop_words = 'english')\n",
    "tfidf.fit([ohsumed.index[k] for k in ohsumed.index])"
   ]
  },
  {
   "cell_type": "code",
   "execution_count": 25,
   "metadata": {},
   "outputs": [],
   "source": [
    "# Write your code to save the results in a pickle file\n",
    "with open('tfidf.pickle','wb') as f:\n",
    "    pickle.dump(tfidf,f)"
   ]
  },
  {
   "cell_type": "markdown",
   "metadata": {},
   "source": [
    "### Exercise 1.3: Sort by tf.idf\n",
    "\n",
    "Write a program that returns the words of a document with highest tf.idf score. The resulting list of words should be sorted by frequency in descending order."
   ]
  },
  {
   "cell_type": "code",
   "execution_count": 26,
   "metadata": {},
   "outputs": [],
   "source": [
    "def best_tfidf(tfidf, docID, numwords=10):\n",
    "    \"\"\"Print the words with highest tf.idf, in descending order\n",
    "    >>> best_tfidf(tfidf, '87049087', numwords=3)\n",
    "    ['rhythms', 'refibrillation', 'organized']\n",
    "    \"\"\"\n",
    "    # Write your code here\n",
    "    words = tfidf.get_feature_names()\n",
    "    vector = tfidf.transform([ohsumed.index[docID]]).toarray()\n",
    "    words_sorted = sorted(words, key=lambda x: vector[0, words.index(x)], reverse=True)\n",
    "    return words_sorted[:numwords]"
   ]
  },
  {
   "cell_type": "markdown",
   "metadata": {},
   "source": [
    "The output of `tfidf.transform` is the tfidf matrix. In the sample solution, this matrix has only 1 row, and as many columns as words in the vocabulary. We want to find what words have what tf.idf value, so we will need to have the list of words and their column number. We can find this information with the code:\n",
    "\n",
    "```\n",
    ">>> words = tfidf.get_feature_names()\n",
    "```\n",
    "\n",
    "Now, to find the column number of word \"organized\", we can type:\n",
    "\n",
    "```\n",
    ">>> words.index('organized')\n",
    "```\n",
    "\n",
    "So, to find the tf.idf value of the word \"organized\", we need to type:\n",
    "\n",
    "```\n",
    ">>> vector[0, words.index('organized')]\n",
    "```\n",
    "\n",
    "where the first 0 indicates that we are looking at the first row (the only row).\n",
    "\n",
    "This is why the `sorted` function has `key=lambda x: vector[0, words.index(x)]`, since it's returning the tf.idf of the word that is being comparing when sorting the list of words."
   ]
  },
  {
   "cell_type": "code",
   "execution_count": 27,
   "metadata": {},
   "outputs": [
    {
     "data": {
      "text/plain": [
       "['rhythms',\n",
       " 'refibrillation',\n",
       " 'organized',\n",
       " 'refibrillated',\n",
       " 'converted',\n",
       " 'emt',\n",
       " 'paramedic',\n",
       " 'ds',\n",
       " 'defibrillation',\n",
       " 'hospital']"
      ]
     },
     "execution_count": 27,
     "metadata": {},
     "output_type": "execute_result"
    }
   ],
   "source": [
    "best_tfidf(tfidf,'87049087')"
   ]
  },
  {
   "cell_type": "markdown",
   "metadata": {},
   "source": [
    "### Optional exercise: tf.idf cosine similarity\n",
    "\n",
    "Use the OHSUMED collection for the following exercise. Write a function that takes as a parameter a string and an optional parameter $n$ the number of results, and returns the IDs of the $n$ documents that are most relevant according to tf.idf and cosine similarity. The results are sorted in descending order of the cosine similarity score."
   ]
  },
  {
   "cell_type": "code",
   "execution_count": 28,
   "metadata": {},
   "outputs": [
    {
     "data": {
      "text/plain": [
       "TfidfVectorizer(stop_words='english')"
      ]
     },
     "execution_count": 28,
     "metadata": {},
     "output_type": "execute_result"
    }
   ],
   "source": [
    "tfidf_norm = TfidfVectorizer(stop_words = 'english', norm=\"l2\")\n",
    "tfidf_norm.fit([ohsumed.index[k] for k in ohsumed.index])"
   ]
  },
  {
   "cell_type": "code",
   "execution_count": 29,
   "metadata": {},
   "outputs": [],
   "source": [
    "import numpy as np"
   ]
  },
  {
   "cell_type": "code",
   "execution_count": 30,
   "metadata": {},
   "outputs": [],
   "source": [
    "# The following funcion implements cosine similarity by using the formulas we have seen in the lectures.\n",
    "# Feel free to use sklearn's implementation of cosine similarity instead.\n",
    "\n",
    "def best_documents(querystring,n=10):\n",
    "    \"\"\"Return the indices of the best n documents using cosine similarity\n",
    "    >>> best_documents(ohsumed.questions['OHSU1'], n=3)\n",
    "    ['87285549', '87162574', '87068356']\"\"\"\n",
    "    # Write your code here\n",
    "    query_vector = tfidf_norm.transform([querystring]).toarray()[0]\n",
    "    results = []\n",
    "    results_scores = []\n",
    "    results_worst = 1\n",
    "    for d in list(ohsumed.index.keys())[:1000]: # Process the first 1000 files only\n",
    "        d_vector = tfidf_norm.transform([ohsumed.index[d]]).toarray()[0]\n",
    "        score = np.dot(query_vector, d_vector) # Formula for cosine similarity.\n",
    "        if len(results) < n:\n",
    "            # It is one of the top n results by default\n",
    "            results.append(d)\n",
    "            results_scores.append(score)\n",
    "            results_worst = np.min((results_worst, score))\n",
    "            continue\n",
    "        if score > results_worst:\n",
    "            # It is one of the top n results; replace with worst so far\n",
    "            i = np.argmin(results_scores)\n",
    "            results_scores[i] = score\n",
    "            results[i] = d\n",
    "            results_worst = np.min(results_scores)\n",
    "    # Return the result, sorted by cosine similarity score\n",
    "    return sorted(results, key=lambda x: results_scores[results.index(x)], reverse=True)"
   ]
  },
  {
   "cell_type": "code",
   "execution_count": 31,
   "metadata": {},
   "outputs": [
    {
     "data": {
      "text/plain": [
       "['87052846',\n",
       " '87053030',\n",
       " '87057603',\n",
       " '87057561',\n",
       " '87054719',\n",
       " '87053640',\n",
       " '87053630',\n",
       " '87055106',\n",
       " '87057550',\n",
       " '87053614']"
      ]
     },
     "execution_count": 31,
     "metadata": {},
     "output_type": "execute_result"
    }
   ],
   "source": [
    "best_documents(ohsumed.questions['OHSU1'])"
   ]
  },
  {
   "cell_type": "code",
   "execution_count": null,
   "metadata": {
    "collapsed": true
   },
   "outputs": [],
   "source": []
  }
 ],
 "metadata": {
  "anaconda-cloud": {},
  "kernelspec": {
   "display_name": "Python 3",
   "language": "python",
   "name": "python3"
  },
  "language_info": {
   "codemirror_mode": {
    "name": "ipython",
    "version": 3
   },
   "file_extension": ".py",
   "mimetype": "text/x-python",
   "name": "python",
   "nbconvert_exporter": "python",
   "pygments_lexer": "ipython3",
   "version": "3.9.1"
  }
 },
 "nbformat": 4,
 "nbformat_minor": 2
}
